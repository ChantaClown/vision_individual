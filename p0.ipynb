{
 "cells": [
  {
   "cell_type": "code",
   "execution_count": 82,
   "metadata": {},
   "outputs": [],
   "source": [
    "# PyToch\n",
    "import torch\n",
    "torch.cuda.empty_cache()\n",
    "import torch.nn as nn\n",
    "import torch.optim as optim\n",
    "from torch.utils.data import DataLoader\n",
    "import torchvision.models as models\n",
    "import torchvision.transforms as t\n",
    "import torchvision.datasets as datasets\n",
    "from torch.amp import GradScaler, autocast  # Para entrenamiento con precision mixta, que acelerar el entrenamiento\n",
    "# Librerias complentarias\n",
    "import matplotlib.pyplot as plt\n",
    "import pandas as pd\n",
    "import numpy as np\n",
    "import time\n",
    "from tqdm import tqdm\n",
    "from sklearn.metrics import f1_score"
   ]
  },
  {
   "cell_type": "markdown",
   "metadata": {},
   "source": [
    "# FUNCIONES PRINCIPALES"
   ]
  },
  {
   "cell_type": "markdown",
   "metadata": {},
   "source": [
    "## Creacion del Modelo\n",
    "Utilizamos el modelo ResNet18, ya que VGG16 innecesariamente complejo para este escenario. La gran mayoría de los modelos modernos obtienen un gran rendimiento en MNIST con bastante facilidad. Sin embargo, el modelo base no está preparado para la clasificación de 10 clases. Por ello, tomamos solo las capas convolucionales y adaptamos la clasificación al problema de los 10 dígitos:\n",
    "\n",
    "- AvgPooling: Reduce la dimensionalidad y disminuye el número de parámetros.\n",
    "- Flatten: Aplana los valores para poder realizar la clasificación.\n",
    "- Capa Densa: Extrae las características restantes.\n",
    "- ReLU: Función de activación de la capa de salida.\n",
    "- Capa de Clasificación: Clasifica la salida en el número predicho."
   ]
  },
  {
   "cell_type": "code",
   "execution_count": 83,
   "metadata": {},
   "outputs": [],
   "source": [
    "def create_model(pretrained=True):\n",
    "    # Cargar ResNet18 preentrenado\n",
    "    resnet18 = models.resnet18(pretrained=pretrained)\n",
    "    \n",
    "    # Modificar la primera capa convolucional para aceptar imágenes en escala de grises (1 canal)\n",
    "    old_layer = resnet18.conv1\n",
    "    resnet18.conv1 = nn.Conv2d(1, 64, kernel_size=7, stride=2, padding=3, bias=False)\n",
    "    \n",
    "    # Ajustar los pesos de la primera capa si se usa un modelo preentrenado\n",
    "    if pretrained:\n",
    "        with torch.no_grad():\n",
    "            resnet18.conv1.weight.data = old_layer.weight.sum(dim=1, keepdim=True)\n",
    "    \n",
    "    # Modificar la capa fully connected final para clasificar 10 clases (dígitos del 0 al 9)\n",
    "    resnet18.fc = nn.Linear(resnet18.fc.in_features, 10)\n",
    "    \n",
    "    return resnet18"
   ]
  },
  {
   "cell_type": "markdown",
   "metadata": {},
   "source": [
    "# ENTRENAMIENTO\n",
    "Entrenamos el modelo sin aplicar técnicas de regularización como Hold-Out o Cross-Validation, dado que MNIST es un dataset relativamente simple y como mencionamos antes estos modelos pueden lograr un alto rendimiento con implementaciones básicas. Para comprobar el progreso, almacenamos las estadísticas de cada epoch y batch en un diccionario, mostrando los resultados de cada epoch y cada 200 batches. Utilizamos Adam como optimizador con una tasa de aprendizaje de 1e-4 y CrossEntropy como función de pérdida, ya que es la más adecuada para la clasificación multiclase."
   ]
  },
  {
   "cell_type": "code",
   "execution_count": 84,
   "metadata": {},
   "outputs": [],
   "source": [
    "def train_model(model, dataloader, optimizer, criterion, num_epochs=5, patience=2):\n",
    "\tdevice = torch.device(\"cuda:0\" if torch.cuda.is_available() else \"cpu\")\n",
    "\tprint(f\"Usando dispositivo: {'GPU' if device == torch.device('cuda:0') else 'CPU'}\")\n",
    "\tmodel.to(device)\n",
    "\tscaler = GradScaler()\n",
    " \n",
    "\t# Historial para métricas\n",
    "\thistory = {\n",
    "\t\t'train_loss': [],         # Pérdida por batch\n",
    "\t\t'train_acc': [],          # Precisión por batch\n",
    "\t\t'epoch_train_loss': [],   # Pérdida promedio por época\n",
    "\t\t'epoch_train_acc': [],    # Precisión promedio por época\n",
    "\t\t'training_time': 0.0      # Tiempo total de entrenamiento\n",
    "\t}\n",
    "\n",
    "\tbest_loss = np.inf  # Mejor pérdida (inicializada con infinito)\n",
    "\tepochs_no_improve = 0  # Contador de epochs sin mejora\n",
    " \n",
    "\tstart_time = time.time()\n",
    "\tfor epoch in range(num_epochs):\n",
    "\t\tprint(f'Epoch {epoch+1}/{num_epochs}')\n",
    "\t\tprint('-' * 10)\n",
    "\t\t\n",
    "\t\t# Modo entrenamiento\n",
    "\t\tmodel.train()\n",
    "\t\tcurrent_loss = 0.0\n",
    "\t\tcurrent_corrects = 0\n",
    "\t\ttotal_samples = 0\n",
    "\t\t\n",
    "\t\tfor i, (inputs, labels) in enumerate(tqdm(dataloader, desc=f\"Epoch {epoch+1}\")):\n",
    "\t\t\tinputs = inputs.to(device)\n",
    "\t\t\tlabels = labels.to(device)\n",
    "\t\t\t\n",
    "\t\t\t# Poner a cero los gradientes\n",
    "\t\t\toptimizer.zero_grad()\n",
    "\t\t\t\n",
    "\t\t\t# Forward\n",
    "\t\t\tif device.type == 'cuda':\n",
    "\t\t\t\twith autocast(device_type='cuda'): \n",
    "\t\t\t\t\toutputs = model(inputs)\n",
    "\t\t\t\t\tloss = criterion(outputs, labels)  # Calcular pérdida\n",
    "\t\t\telse:\n",
    "\t\t\t\toutputs = model(inputs) \n",
    "\t\t\t\tloss = criterion(outputs, labels)  # Calcular pérdida\n",
    "\t\t\t\n",
    "\t\t\t# Backward + optimize\n",
    "\t\t\tscaler.scale(loss).backward()  # Escalar gradientes\n",
    "\t\t\tscaler.step(optimizer)  # Actualizar pesos\n",
    "\t\t\tscaler.update()  # Actualizar el escalado\n",
    "\t\t\t\n",
    "\t\t\t# Pérdida y precisión por batch\n",
    "\t\t\thistory['train_loss'].append(loss.item())\n",
    "\t\t\t\n",
    "\t\t\t# Calcular la precisión\n",
    "\t\t\t_, predicted = torch.max(outputs, 1)\n",
    "\t\t\tbatch_acc = torch.sum(predicted == labels.data) / inputs.size(0)\n",
    "\t\t\thistory['train_acc'].append(batch_acc.item())\n",
    "\t\t\t\n",
    "\t\t\t# Acumular estadísticas\n",
    "\t\t\tcurrent_loss += loss.item() * inputs.size(0)  # Pérdida acumulada\n",
    "\t\t\tcurrent_corrects += torch.sum(predicted == labels.data)  # Predicciones correctas\n",
    "\t\t\ttotal_samples += inputs.size(0)\n",
    "\t\t\t\n",
    "\t\t\t# Imprimir estadísticas cada 200 batches\n",
    "\t\t\tif i % 200 == 0:\n",
    "\t\t\t\tprint(f\"  Batch {i}: Loss: {loss.item():.4f}, Acc: {batch_acc.item():.4f}\")\n",
    "\t\t\n",
    "\t\t# Estadísticas por época\n",
    "\t\tepoch_loss = current_loss / total_samples\n",
    "\t\tepoch_acc = current_corrects / total_samples\n",
    "\t\t\n",
    "\t\t# Guardar estadísticas por época\n",
    "\t\thistory['epoch_train_loss'].append(epoch_loss)\n",
    "\t\thistory['epoch_train_acc'].append(epoch_acc.item())\n",
    "\t\t\n",
    "\t\tprint(f'  Train Loss: {epoch_loss:.4f} Acc: {epoch_acc:.4f}')\n",
    "\n",
    "\t\t# Early stopping\n",
    "\t\tif epoch_loss < best_loss:\n",
    "\t\t\tbest_loss = epoch_loss  # Actualizar la mejor pérdida\n",
    "\t\t\tepochs_no_improve = 0  # Reiniciar el contador\n",
    "\t\telse:\n",
    "\t\t\tepochs_no_improve += 1  # Incrementar el contador si no hay mejora\n",
    "\t\t\tprint(f'  No improvement in loss for {epochs_no_improve} epochs.')\n",
    "\t\t\t\n",
    "\t\t\t# Detener el entrenamiento si no hay mejora\n",
    "\t\t\tif epochs_no_improve >= patience:\n",
    "\t\t\t\tprint(f'  Early stopping triggered after {epoch+1} epochs.')\n",
    "\t\t\t\tbreak\n",
    "\n",
    "\n",
    "\t# Calcular tiempo total de entrenamiento\n",
    "\ttime_elapsed = time.time() - start_time\n",
    "\thistory['training_time'] = time_elapsed\n",
    "\n",
    "\tprint(f'Entrenamiento completado en {time_elapsed // 60:.0f}m {time_elapsed % 60:.0f}s')\n",
    "\tprint(f'Precisión Final: {epoch_acc:.4f}')\n",
    "\n",
    "\treturn model, history"
   ]
  },
  {
   "cell_type": "markdown",
   "metadata": {},
   "source": [
    "# TESTEO\n",
    "Implementamos un testeo basico usando como metrica de rendimiento la pricision en el conjunto de test de nuestro modelo."
   ]
  },
  {
   "cell_type": "code",
   "execution_count": 85,
   "metadata": {},
   "outputs": [],
   "source": [
    "def test_model(model, test_loader):\n",
    "\tdevice = torch.device(\"cuda:0\" if torch.cuda.is_available() else \"cpu\")\n",
    "\tmodel.to(device)  # Movemos el modelo a la GPU si está disponible\n",
    "\tmodel.eval()  # Ponemos el modelo en modo evaluación\n",
    "    \n",
    "\trunning_corrects = 0\n",
    "\ttotal_samples = 0\n",
    "\ttest_accuracies = []\n",
    "\tall_preds = []\n",
    "\tall_labels = []\n",
    "    \n",
    "\twith torch.no_grad():\n",
    "\t\t# for inputs, labels in tqdm(test_loader, desc=\"Evaluando\"):\n",
    "\t\tfor inputs, labels in (test_loader):\n",
    "\t\t\tinputs = inputs.to(device)\n",
    "\t\t\tlabels = labels.to(device)\n",
    "\n",
    "\t\t\toutputs = model(inputs)\n",
    "\t\t\t_, preds = torch.max(outputs, 1)\n",
    "\n",
    "\t\t\tbatch_acc = torch.sum(preds == labels.data) / inputs.size(0)\n",
    "\t\t\ttest_accuracies.append(batch_acc.item())\n",
    "            # Acumular predicciones y etiquetas para calcular el F1-score global, necesitamos las etiquetas y predicciones en la CPU\n",
    "\t\t\tall_preds.extend(preds.cpu().numpy())\n",
    "\t\t\tall_labels.extend(labels.cpu().numpy())\n",
    "   \n",
    "\t\t\trunning_corrects += torch.sum(preds == labels.data)\n",
    "\t\t\ttotal_samples += inputs.size(0)\n",
    "\n",
    "\ttest_acc = running_corrects / total_samples\n",
    "\tprint(f'Precisión en test: {test_acc:.4f}')\n",
    "\tf1 = f1_score(all_labels, all_preds, average='macro')\n",
    "\tprint(f'F1 Score: {f1:.4f}')\n",
    "\treturn test_acc.item(), test_accuracies, f1"
   ]
  },
  {
   "cell_type": "markdown",
   "metadata": {},
   "source": [
    "# FUNCIONES COMPLEMENTARIAS"
   ]
  },
  {
   "cell_type": "code",
   "execution_count": 86,
   "metadata": {},
   "outputs": [],
   "source": [
    "# Grafica las metricas de entrenamiento y test\n",
    "def plot_metrics(history, test_acc):\n",
    "\tplt.figure(figsize=(12, 5))\n",
    "\n",
    "\t# Gráfico de pérdida\n",
    "\tplt.subplot(1, 2, 1)\n",
    "\tplt.plot(history['train_loss'], label='Train Loss')\n",
    "\tplt.title(f'Loss')\n",
    "\tplt.xlabel('Época')\n",
    "\tplt.ylabel('Pérdida')\n",
    "\tplt.legend()\n",
    "\n",
    "\t# Gráfico de precisión\n",
    "\tplt.subplot(1, 2, 2)\n",
    "\tplt.plot(history['train_acc'], label='Train Accuracy')\n",
    "\tplt.axhline(y=test_acc, color='r', linestyle='--', label=f'Test Accuracy: {test_acc:.4f}')\n",
    "\tplt.title(f'Accuracy')\n",
    "\tplt.xlabel('Época')\n",
    "\tplt.ylabel('Precisión')\n",
    "\tplt.legend()\n",
    "\n",
    "\tplt.tight_layout()\n",
    "\tplt.show()"
   ]
  },
  {
   "cell_type": "code",
   "execution_count": 87,
   "metadata": {},
   "outputs": [],
   "source": [
    "# DataFrame para comparar resultados\n",
    "def compare_results(histories, test_metrics):\n",
    "    df = pd.DataFrame([\n",
    "        {\n",
    "            'Modelo': model,\n",
    "            'Precisión Test (%)': f\"{test_metrics[model]['accuracy'] * 100:.2f}%\",\n",
    "            'F1-Score': f\"{test_metrics[model]['f1_score']:.4f}\",\n",
    "            'Tiempo Entrenamiento (s)': f\"{histories[model]['training_time']:.1f}\",\n",
    "            'Tiempo Inferencia (s)': f\"{test_metrics[model]['inference_time']:.1f}\",\n",
    "            'Pérdida Final': f\"{histories[model]['epoch_train_loss'][-1]:.4f}\"\n",
    "        }\n",
    "        for model in histories\n",
    "    ])\n",
    "\n",
    "    print(\"\\nTabla Comparativa de Resultados:\\n\", df)\n",
    "    return df"
   ]
  },
  {
   "cell_type": "code",
   "execution_count": 88,
   "metadata": {},
   "outputs": [],
   "source": [
    "def run_experiments(train_loader_basic, train_loader_augment, test_loader):\n",
    "\tcriterion = nn.CrossEntropyLoss()\n",
    "\thistories = {}\n",
    "\ttest_metrics = {}\n",
    "\tmodels = {}\n",
    "\n",
    "\t# Modelos a probar\n",
    "\tconfigurations = [\n",
    "\t\t(\"PREENTRENADO SIN DA\", True, train_loader_basic),\n",
    "\t\t(\"Preentrenado CON DA\", True, train_loader_augment),\n",
    "\t\t(\"DESDE CERO SIN DA\", False, train_loader_basic),\n",
    "\t\t(\"DESDE CERO CON DA\", False, train_loader_augment)\n",
    "\t]\n",
    "\n",
    "\tfor config_name, pretrained, dataloader in configurations:\n",
    "\t\tprint(f\"\\n\\n{config_name}\")\n",
    "\t\tprint(\"=\"*50)\n",
    "\t\t\n",
    "\t\t# Crear modelo\n",
    "\t\tmodel = create_model(pretrained=pretrained)\n",
    "\t\toptimizer = optim.Adam(model.parameters(), lr=1e-4)\n",
    "\t\t\n",
    "\t\t# Entrenar modelo\n",
    "\t\tmodel, history = train_model(model, dataloader, optimizer, criterion)\t\t\n",
    "\t\t# Evaluar modelo\n",
    "\t\ttest_acc, test_accuracies, f1 = test_model(model, test_loader)\n",
    "\n",
    "\t\t# Guardar resultados\n",
    "\t\thistories[config_name] = history\n",
    "\t\ttest_metrics[config_name] = {\n",
    "\t\t\t'accuracy': test_acc,\n",
    "\t\t\t'f1_score': f1,\n",
    "\t\t\t'test_accuracies': test_accuracies\n",
    "\t\t}\t\t\n",
    "\t\tmodels[config_name] = model\n",
    "\n",
    "\t# Graficos\n",
    "\t# plot_metrics(histories, test_acc)\n",
    "\t# Tabla comparativa\n",
    "\tcompare_results(histories, test_metrics)\n",
    "\n",
    "\treturn histories, test_metrics, models"
   ]
  },
  {
   "cell_type": "markdown",
   "metadata": {},
   "source": [
    "# CARGA DE DATOS\n",
    "Cargamos el conjunto de __MNIST__, separándolo en entrenamiento y test; además de un set de entrenamiento con __Data Augmentation (DA)__. Esta DA consiste en:\n",
    "- Padding de 4 píxeles\n",
    "- Transformaciones afines con centro invariante (Giros en la imagen donde el centro queda en el mismo sitio)\n",
    "- Cambios en brillo y contraste\n",
    "\n",
    "No se incluyen transformaciones como __flips__ ya que estos generarían ruido en el dataset. Un ejemplo claro de esto sería los números 9 y 6, si realizamos un flip vertical, estos números se intercambiarían y sus etiquetas pasarían a ser erróneas.\n",
    "Además, los elementos del dataset se pasan a _Tensores_ para poder trabajar con ellos en PyTorch, y normalizamos para evitar que grandes diferencias de valores nos generen valores incorrectos."
   ]
  },
  {
   "cell_type": "code",
   "execution_count": 89,
   "metadata": {},
   "outputs": [
    {
     "name": "stdout",
     "output_type": "stream",
     "text": [
      "Train dataset size:  60000\n",
      "Test dataset size:  10000\n"
     ]
    }
   ],
   "source": [
    "# Definir rutas y parámetros\n",
    "route = 'MNIST'\n",
    "batch_size = 128\n",
    "\n",
    "# Definir transformaciones básicas y con augmentation\n",
    "mytransforms = t.Compose([\n",
    "\tt.ToTensor(),\n",
    "    # Antes de usar Normalize, se debe de transformar a tensor\n",
    "\tt.Normalize((0.5,), (0.5,))\n",
    "])\n",
    "\n",
    "myaugmentation = t.Compose([\n",
    "\tt.Pad(4), # Añadir padding de 4 píxeles\n",
    "\tt.RandomAffine(degrees=45, translate=(0.2, 0.2), scale=(0.75, 1.25), shear=15), # Transformacion manteniendo el centro invariante\n",
    "\tt.ColorJitter(brightness=(0.2, 0.8), contrast=(0.2, 0.8)), # Cambios en brillo y contraste\n",
    "\tmytransforms\n",
    "])\n",
    "\n",
    "# Cargar datasets\n",
    "train_basic = datasets.MNIST(route, train=True, download=False, transform=mytransforms)\n",
    "train_da = datasets.MNIST(route, train=True, download=False, transform=myaugmentation)\n",
    "test = datasets.MNIST(route, train=False, download=False, transform=mytransforms)\n",
    "\n",
    "# Crear dataloaders\n",
    "train_loader_basic = DataLoader(train_basic, batch_size=batch_size, shuffle=True, num_workers=8)\n",
    "train_loader_da= DataLoader(train_da, batch_size=batch_size, shuffle=True, num_workers=8)\n",
    "test_loader = DataLoader(test, batch_size=batch_size, shuffle=False, num_workers=8)\n",
    "\n",
    "print(\"Train dataset size: \", len(train_basic))\n",
    "print(\"Test dataset size: \", len(test))"
   ]
  },
  {
   "cell_type": "markdown",
   "metadata": {},
   "source": [
    "# EJECUCION DE MODELOS"
   ]
  },
  {
   "cell_type": "code",
   "execution_count": 90,
   "metadata": {},
   "outputs": [
    {
     "name": "stderr",
     "output_type": "stream",
     "text": [
      "/home/clown/2-semester/vision_individual/vision_env/lib/python3.11/site-packages/torchvision/models/_utils.py:208: UserWarning: The parameter 'pretrained' is deprecated since 0.13 and may be removed in the future, please use 'weights' instead.\n",
      "  warnings.warn(\n",
      "/home/clown/2-semester/vision_individual/vision_env/lib/python3.11/site-packages/torchvision/models/_utils.py:223: UserWarning: Arguments other than a weight enum or `None` for 'weights' are deprecated since 0.13 and may be removed in the future. The current behavior is equivalent to passing `weights=ResNet18_Weights.IMAGENET1K_V1`. You can also use `weights=ResNet18_Weights.DEFAULT` to get the most up-to-date weights.\n",
      "  warnings.warn(msg)\n"
     ]
    },
    {
     "name": "stdout",
     "output_type": "stream",
     "text": [
      "\n",
      "\n",
      "PREENTRENADO SIN DA\n",
      "==================================================\n",
      "Usando dispositivo: GPU\n",
      "Epoch 1/15\n",
      "----------\n"
     ]
    },
    {
     "name": "stderr",
     "output_type": "stream",
     "text": [
      "Epoch 1:   2%|▏         | 10/469 [00:00<00:16, 27.89it/s]"
     ]
    },
    {
     "name": "stdout",
     "output_type": "stream",
     "text": [
      "  Batch 0: Loss: 2.5250, Acc: 0.1328\n"
     ]
    },
    {
     "name": "stderr",
     "output_type": "stream",
     "text": [
      "Epoch 1:  46%|████▌     | 215/469 [00:02<00:03, 84.24it/s]"
     ]
    },
    {
     "name": "stdout",
     "output_type": "stream",
     "text": [
      "  Batch 200: Loss: 0.1141, Acc: 0.9453\n"
     ]
    },
    {
     "name": "stderr",
     "output_type": "stream",
     "text": [
      "Epoch 1:  88%|████████▊ | 413/469 [00:05<00:00, 83.28it/s]"
     ]
    },
    {
     "name": "stdout",
     "output_type": "stream",
     "text": [
      "  Batch 400: Loss: 0.0727, Acc: 0.9688\n"
     ]
    },
    {
     "name": "stderr",
     "output_type": "stream",
     "text": [
      "Epoch 1: 100%|██████████| 469/469 [00:06<00:00, 77.90it/s]\n"
     ]
    },
    {
     "name": "stdout",
     "output_type": "stream",
     "text": [
      "  Train Loss: 0.1702 Acc: 0.9483\n",
      "Epoch 2/15\n",
      "----------\n"
     ]
    },
    {
     "name": "stderr",
     "output_type": "stream",
     "text": [
      "Epoch 2:   2%|▏         | 10/469 [00:00<00:16, 27.32it/s]"
     ]
    },
    {
     "name": "stdout",
     "output_type": "stream",
     "text": [
      "  Batch 0: Loss: 0.0117, Acc: 1.0000\n"
     ]
    },
    {
     "name": "stderr",
     "output_type": "stream",
     "text": [
      "Epoch 2:  46%|████▋     | 217/469 [00:02<00:02, 84.57it/s]"
     ]
    },
    {
     "name": "stdout",
     "output_type": "stream",
     "text": [
      "  Batch 200: Loss: 0.0231, Acc: 0.9922\n"
     ]
    },
    {
     "name": "stderr",
     "output_type": "stream",
     "text": [
      "Epoch 2:  88%|████████▊ | 415/469 [00:05<00:00, 83.69it/s]"
     ]
    },
    {
     "name": "stdout",
     "output_type": "stream",
     "text": [
      "  Batch 400: Loss: 0.0285, Acc: 0.9922\n"
     ]
    },
    {
     "name": "stderr",
     "output_type": "stream",
     "text": [
      "Epoch 2: 100%|██████████| 469/469 [00:06<00:00, 78.16it/s]\n"
     ]
    },
    {
     "name": "stdout",
     "output_type": "stream",
     "text": [
      "  Train Loss: 0.0310 Acc: 0.9911\n",
      "Epoch 3/15\n",
      "----------\n"
     ]
    },
    {
     "name": "stderr",
     "output_type": "stream",
     "text": [
      "Epoch 3:   2%|▏         | 10/469 [00:00<00:16, 27.39it/s]"
     ]
    },
    {
     "name": "stdout",
     "output_type": "stream",
     "text": [
      "  Batch 0: Loss: 0.0284, Acc: 0.9922\n"
     ]
    },
    {
     "name": "stderr",
     "output_type": "stream",
     "text": [
      "Epoch 3:  46%|████▋     | 217/469 [00:02<00:02, 88.03it/s]"
     ]
    },
    {
     "name": "stdout",
     "output_type": "stream",
     "text": [
      "  Batch 200: Loss: 0.0282, Acc: 0.9922\n"
     ]
    },
    {
     "name": "stderr",
     "output_type": "stream",
     "text": [
      "Epoch 3:  88%|████████▊ | 415/469 [00:05<00:00, 85.72it/s]"
     ]
    },
    {
     "name": "stdout",
     "output_type": "stream",
     "text": [
      "  Batch 400: Loss: 0.0912, Acc: 0.9844\n"
     ]
    },
    {
     "name": "stderr",
     "output_type": "stream",
     "text": [
      "Epoch 3: 100%|██████████| 469/469 [00:05<00:00, 80.19it/s]\n"
     ]
    },
    {
     "name": "stdout",
     "output_type": "stream",
     "text": [
      "  Train Loss: 0.0238 Acc: 0.9928\n",
      "Epoch 4/15\n",
      "----------\n"
     ]
    },
    {
     "name": "stderr",
     "output_type": "stream",
     "text": [
      "Epoch 4:   2%|▏         | 10/469 [00:00<00:15, 28.74it/s]"
     ]
    },
    {
     "name": "stdout",
     "output_type": "stream",
     "text": [
      "  Batch 0: Loss: 0.0205, Acc: 0.9922\n"
     ]
    },
    {
     "name": "stderr",
     "output_type": "stream",
     "text": [
      "Epoch 4:  46%|████▋     | 217/469 [00:02<00:02, 86.62it/s]"
     ]
    },
    {
     "name": "stdout",
     "output_type": "stream",
     "text": [
      "  Batch 200: Loss: 0.0126, Acc: 0.9922\n"
     ]
    },
    {
     "name": "stderr",
     "output_type": "stream",
     "text": [
      "Epoch 4:  88%|████████▊ | 415/469 [00:05<00:00, 85.49it/s]"
     ]
    },
    {
     "name": "stdout",
     "output_type": "stream",
     "text": [
      "  Batch 400: Loss: 0.0009, Acc: 1.0000\n"
     ]
    },
    {
     "name": "stderr",
     "output_type": "stream",
     "text": [
      "Epoch 4: 100%|██████████| 469/469 [00:05<00:00, 80.09it/s]\n"
     ]
    },
    {
     "name": "stdout",
     "output_type": "stream",
     "text": [
      "  Train Loss: 0.0174 Acc: 0.9947\n",
      "Epoch 5/15\n",
      "----------\n"
     ]
    },
    {
     "name": "stderr",
     "output_type": "stream",
     "text": [
      "Epoch 5:   2%|▏         | 10/469 [00:00<00:16, 28.22it/s]"
     ]
    },
    {
     "name": "stdout",
     "output_type": "stream",
     "text": [
      "  Batch 0: Loss: 0.0076, Acc: 1.0000\n"
     ]
    },
    {
     "name": "stderr",
     "output_type": "stream",
     "text": [
      "Epoch 5:  46%|████▋     | 217/469 [00:02<00:02, 85.05it/s]"
     ]
    },
    {
     "name": "stdout",
     "output_type": "stream",
     "text": [
      "  Batch 200: Loss: 0.0016, Acc: 1.0000\n"
     ]
    },
    {
     "name": "stderr",
     "output_type": "stream",
     "text": [
      "Epoch 5:  88%|████████▊ | 415/469 [00:05<00:00, 85.20it/s]"
     ]
    },
    {
     "name": "stdout",
     "output_type": "stream",
     "text": [
      "  Batch 400: Loss: 0.0111, Acc: 0.9922\n"
     ]
    },
    {
     "name": "stderr",
     "output_type": "stream",
     "text": [
      "Epoch 5: 100%|██████████| 469/469 [00:05<00:00, 80.05it/s]\n"
     ]
    },
    {
     "name": "stdout",
     "output_type": "stream",
     "text": [
      "  Train Loss: 0.0152 Acc: 0.9950\n",
      "Epoch 6/15\n",
      "----------\n"
     ]
    },
    {
     "name": "stderr",
     "output_type": "stream",
     "text": [
      "Epoch 6:   2%|▏         | 10/469 [00:00<00:16, 27.85it/s]"
     ]
    },
    {
     "name": "stdout",
     "output_type": "stream",
     "text": [
      "  Batch 0: Loss: 0.0007, Acc: 1.0000\n"
     ]
    },
    {
     "name": "stderr",
     "output_type": "stream",
     "text": [
      "Epoch 6:  46%|████▋     | 217/469 [00:02<00:03, 83.97it/s]"
     ]
    },
    {
     "name": "stdout",
     "output_type": "stream",
     "text": [
      "  Batch 200: Loss: 0.0064, Acc: 1.0000\n"
     ]
    },
    {
     "name": "stderr",
     "output_type": "stream",
     "text": [
      "Epoch 6:  88%|████████▊ | 415/469 [00:05<00:00, 83.94it/s]"
     ]
    },
    {
     "name": "stdout",
     "output_type": "stream",
     "text": [
      "  Batch 400: Loss: 0.0264, Acc: 0.9766\n"
     ]
    },
    {
     "name": "stderr",
     "output_type": "stream",
     "text": [
      "Epoch 6: 100%|██████████| 469/469 [00:05<00:00, 78.23it/s]\n"
     ]
    },
    {
     "name": "stdout",
     "output_type": "stream",
     "text": [
      "  Train Loss: 0.0116 Acc: 0.9961\n",
      "Epoch 7/15\n",
      "----------\n"
     ]
    },
    {
     "name": "stderr",
     "output_type": "stream",
     "text": [
      "Epoch 7:   2%|▏         | 10/469 [00:00<00:16, 27.17it/s]"
     ]
    },
    {
     "name": "stdout",
     "output_type": "stream",
     "text": [
      "  Batch 0: Loss: 0.0110, Acc: 0.9922\n"
     ]
    },
    {
     "name": "stderr",
     "output_type": "stream",
     "text": [
      "Epoch 7:  46%|████▌     | 216/469 [00:02<00:02, 84.63it/s]"
     ]
    },
    {
     "name": "stdout",
     "output_type": "stream",
     "text": [
      "  Batch 200: Loss: 0.0049, Acc: 1.0000\n"
     ]
    },
    {
     "name": "stderr",
     "output_type": "stream",
     "text": [
      "Epoch 7:  88%|████████▊ | 414/469 [00:05<00:00, 84.84it/s]"
     ]
    },
    {
     "name": "stdout",
     "output_type": "stream",
     "text": [
      "  Batch 400: Loss: 0.0195, Acc: 0.9922\n"
     ]
    },
    {
     "name": "stderr",
     "output_type": "stream",
     "text": [
      "Epoch 7: 100%|██████████| 469/469 [00:05<00:00, 78.66it/s]\n"
     ]
    },
    {
     "name": "stdout",
     "output_type": "stream",
     "text": [
      "  Train Loss: 0.0108 Acc: 0.9964\n",
      "Epoch 8/15\n",
      "----------\n"
     ]
    },
    {
     "name": "stderr",
     "output_type": "stream",
     "text": [
      "Epoch 8:   2%|▏         | 10/469 [00:00<00:16, 27.74it/s]"
     ]
    },
    {
     "name": "stdout",
     "output_type": "stream",
     "text": [
      "  Batch 0: Loss: 0.0143, Acc: 0.9922\n"
     ]
    },
    {
     "name": "stderr",
     "output_type": "stream",
     "text": [
      "Epoch 8:  46%|████▋     | 218/469 [00:02<00:02, 89.02it/s]"
     ]
    },
    {
     "name": "stdout",
     "output_type": "stream",
     "text": [
      "  Batch 200: Loss: 0.0016, Acc: 1.0000\n"
     ]
    },
    {
     "name": "stderr",
     "output_type": "stream",
     "text": [
      "Epoch 8:  88%|████████▊ | 413/469 [00:05<00:00, 90.09it/s]"
     ]
    },
    {
     "name": "stdout",
     "output_type": "stream",
     "text": [
      "  Batch 400: Loss: 0.0039, Acc: 1.0000\n"
     ]
    },
    {
     "name": "stderr",
     "output_type": "stream",
     "text": [
      "Epoch 8: 100%|██████████| 469/469 [00:05<00:00, 82.11it/s]\n"
     ]
    },
    {
     "name": "stdout",
     "output_type": "stream",
     "text": [
      "  Train Loss: 0.0095 Acc: 0.9973\n",
      "Epoch 9/15\n",
      "----------\n"
     ]
    },
    {
     "name": "stderr",
     "output_type": "stream",
     "text": [
      "Epoch 9:   2%|▏         | 10/469 [00:00<00:16, 28.35it/s]"
     ]
    },
    {
     "name": "stdout",
     "output_type": "stream",
     "text": [
      "  Batch 0: Loss: 0.0005, Acc: 1.0000\n"
     ]
    },
    {
     "name": "stderr",
     "output_type": "stream",
     "text": [
      "Epoch 9:  45%|████▌     | 213/469 [00:02<00:02, 89.58it/s]"
     ]
    },
    {
     "name": "stdout",
     "output_type": "stream",
     "text": [
      "  Batch 200: Loss: 0.0049, Acc: 1.0000\n"
     ]
    },
    {
     "name": "stderr",
     "output_type": "stream",
     "text": [
      "Epoch 9:  88%|████████▊ | 413/469 [00:05<00:00, 87.45it/s]"
     ]
    },
    {
     "name": "stdout",
     "output_type": "stream",
     "text": [
      "  Batch 400: Loss: 0.0074, Acc: 1.0000\n"
     ]
    },
    {
     "name": "stderr",
     "output_type": "stream",
     "text": [
      "Epoch 9: 100%|██████████| 469/469 [00:05<00:00, 81.97it/s]\n"
     ]
    },
    {
     "name": "stdout",
     "output_type": "stream",
     "text": [
      "  Train Loss: 0.0099 Acc: 0.9966\n",
      "  No improvement in loss for 1 epochs.\n",
      "Epoch 10/15\n",
      "----------\n"
     ]
    },
    {
     "name": "stderr",
     "output_type": "stream",
     "text": [
      "Epoch 10:   2%|▏         | 11/469 [00:00<00:14, 30.75it/s]"
     ]
    },
    {
     "name": "stdout",
     "output_type": "stream",
     "text": [
      "  Batch 0: Loss: 0.0020, Acc: 1.0000\n"
     ]
    },
    {
     "name": "stderr",
     "output_type": "stream",
     "text": [
      "Epoch 10:  46%|████▋     | 217/469 [00:02<00:02, 89.59it/s]"
     ]
    },
    {
     "name": "stdout",
     "output_type": "stream",
     "text": [
      "  Batch 200: Loss: 0.0200, Acc: 0.9922\n"
     ]
    },
    {
     "name": "stderr",
     "output_type": "stream",
     "text": [
      "Epoch 10:  89%|████████▉ | 417/469 [00:05<00:00, 88.51it/s]"
     ]
    },
    {
     "name": "stdout",
     "output_type": "stream",
     "text": [
      "  Batch 400: Loss: 0.0340, Acc: 0.9922\n"
     ]
    },
    {
     "name": "stderr",
     "output_type": "stream",
     "text": [
      "Epoch 10: 100%|██████████| 469/469 [00:05<00:00, 82.57it/s]"
     ]
    },
    {
     "name": "stdout",
     "output_type": "stream",
     "text": [
      "  Train Loss: 0.0095 Acc: 0.9970\n",
      "  No improvement in loss for 2 epochs.\n",
      "  Early stopping triggered after 10 epochs.\n",
      "Entrenamiento completado en 0m 59s\n",
      "Precisión Final: 0.9970\n"
     ]
    },
    {
     "name": "stderr",
     "output_type": "stream",
     "text": [
      "\n",
      "/home/clown/2-semester/vision_individual/vision_env/lib/python3.11/site-packages/torchvision/models/_utils.py:208: UserWarning: The parameter 'pretrained' is deprecated since 0.13 and may be removed in the future, please use 'weights' instead.\n",
      "  warnings.warn(\n",
      "/home/clown/2-semester/vision_individual/vision_env/lib/python3.11/site-packages/torchvision/models/_utils.py:223: UserWarning: Arguments other than a weight enum or `None` for 'weights' are deprecated since 0.13 and may be removed in the future. The current behavior is equivalent to passing `weights=ResNet18_Weights.IMAGENET1K_V1`. You can also use `weights=ResNet18_Weights.DEFAULT` to get the most up-to-date weights.\n",
      "  warnings.warn(msg)\n"
     ]
    },
    {
     "name": "stdout",
     "output_type": "stream",
     "text": [
      "Precisión en test: 0.9929\n",
      "F1 Score: 0.9929\n",
      "\n",
      "\n",
      "Preentrenado CON DA\n",
      "==================================================\n",
      "Usando dispositivo: GPU\n",
      "Epoch 1/15\n",
      "----------\n"
     ]
    },
    {
     "name": "stderr",
     "output_type": "stream",
     "text": [
      "Epoch 1:   2%|▏         | 9/469 [00:00<00:19, 23.43it/s]"
     ]
    },
    {
     "name": "stdout",
     "output_type": "stream",
     "text": [
      "  Batch 0: Loss: 2.5498, Acc: 0.1250\n"
     ]
    },
    {
     "name": "stderr",
     "output_type": "stream",
     "text": [
      "Epoch 1:  45%|████▍     | 209/469 [00:03<00:03, 73.69it/s]"
     ]
    },
    {
     "name": "stdout",
     "output_type": "stream",
     "text": [
      "  Batch 200: Loss: 0.3051, Acc: 0.8750\n"
     ]
    },
    {
     "name": "stderr",
     "output_type": "stream",
     "text": [
      "Epoch 1:  87%|████████▋ | 409/469 [00:06<00:00, 73.21it/s]"
     ]
    },
    {
     "name": "stdout",
     "output_type": "stream",
     "text": [
      "  Batch 400: Loss: 0.2224, Acc: 0.9297\n"
     ]
    },
    {
     "name": "stderr",
     "output_type": "stream",
     "text": [
      "Epoch 1: 100%|██████████| 469/469 [00:06<00:00, 67.87it/s]\n"
     ]
    },
    {
     "name": "stdout",
     "output_type": "stream",
     "text": [
      "  Train Loss: 0.4550 Acc: 0.8492\n",
      "Epoch 2/15\n",
      "----------\n"
     ]
    },
    {
     "name": "stderr",
     "output_type": "stream",
     "text": [
      "Epoch 2:   2%|▏         | 9/469 [00:00<00:19, 23.66it/s]"
     ]
    },
    {
     "name": "stdout",
     "output_type": "stream",
     "text": [
      "  Batch 0: Loss: 0.1129, Acc: 0.9531\n"
     ]
    },
    {
     "name": "stderr",
     "output_type": "stream",
     "text": [
      "Epoch 2:  46%|████▌     | 216/469 [00:03<00:03, 74.06it/s]"
     ]
    },
    {
     "name": "stdout",
     "output_type": "stream",
     "text": [
      "  Batch 200: Loss: 0.1318, Acc: 0.9609\n"
     ]
    },
    {
     "name": "stderr",
     "output_type": "stream",
     "text": [
      "Epoch 2:  87%|████████▋ | 408/469 [00:05<00:00, 74.09it/s]"
     ]
    },
    {
     "name": "stdout",
     "output_type": "stream",
     "text": [
      "  Batch 400: Loss: 0.1139, Acc: 0.9609\n"
     ]
    },
    {
     "name": "stderr",
     "output_type": "stream",
     "text": [
      "Epoch 2: 100%|██████████| 469/469 [00:06<00:00, 68.74it/s]\n"
     ]
    },
    {
     "name": "stdout",
     "output_type": "stream",
     "text": [
      "  Train Loss: 0.1514 Acc: 0.9516\n",
      "Epoch 3/15\n",
      "----------\n"
     ]
    },
    {
     "name": "stderr",
     "output_type": "stream",
     "text": [
      "Epoch 3:   2%|▏         | 9/469 [00:00<00:19, 23.54it/s]"
     ]
    },
    {
     "name": "stdout",
     "output_type": "stream",
     "text": [
      "  Batch 0: Loss: 0.1813, Acc: 0.9375\n"
     ]
    },
    {
     "name": "stderr",
     "output_type": "stream",
     "text": [
      "Epoch 3:  46%|████▌     | 216/469 [00:03<00:03, 75.31it/s]"
     ]
    },
    {
     "name": "stdout",
     "output_type": "stream",
     "text": [
      "  Batch 200: Loss: 0.1036, Acc: 0.9531\n"
     ]
    },
    {
     "name": "stderr",
     "output_type": "stream",
     "text": [
      "Epoch 3:  89%|████████▊ | 416/469 [00:06<00:00, 73.93it/s]"
     ]
    },
    {
     "name": "stdout",
     "output_type": "stream",
     "text": [
      "  Batch 400: Loss: 0.1338, Acc: 0.9609\n"
     ]
    },
    {
     "name": "stderr",
     "output_type": "stream",
     "text": [
      "Epoch 3: 100%|██████████| 469/469 [00:06<00:00, 68.60it/s]\n"
     ]
    },
    {
     "name": "stdout",
     "output_type": "stream",
     "text": [
      "  Train Loss: 0.1170 Acc: 0.9631\n",
      "Epoch 4/15\n",
      "----------\n"
     ]
    },
    {
     "name": "stderr",
     "output_type": "stream",
     "text": [
      "Epoch 4:   2%|▏         | 9/469 [00:00<00:19, 24.10it/s]"
     ]
    },
    {
     "name": "stdout",
     "output_type": "stream",
     "text": [
      "  Batch 0: Loss: 0.1116, Acc: 0.9609\n"
     ]
    },
    {
     "name": "stderr",
     "output_type": "stream",
     "text": [
      "Epoch 4:  45%|████▍     | 209/469 [00:03<00:03, 74.15it/s]"
     ]
    },
    {
     "name": "stdout",
     "output_type": "stream",
     "text": [
      "  Batch 200: Loss: 0.1233, Acc: 0.9609\n"
     ]
    },
    {
     "name": "stderr",
     "output_type": "stream",
     "text": [
      "Epoch 4:  87%|████████▋ | 409/469 [00:05<00:00, 73.27it/s]"
     ]
    },
    {
     "name": "stdout",
     "output_type": "stream",
     "text": [
      "  Batch 400: Loss: 0.0940, Acc: 0.9609\n"
     ]
    },
    {
     "name": "stderr",
     "output_type": "stream",
     "text": [
      "Epoch 4: 100%|██████████| 469/469 [00:06<00:00, 68.75it/s]\n"
     ]
    },
    {
     "name": "stdout",
     "output_type": "stream",
     "text": [
      "  Train Loss: 0.0977 Acc: 0.9699\n",
      "Epoch 5/15\n",
      "----------\n"
     ]
    },
    {
     "name": "stderr",
     "output_type": "stream",
     "text": [
      "Epoch 5:   2%|▏         | 9/469 [00:00<00:19, 24.12it/s]"
     ]
    },
    {
     "name": "stdout",
     "output_type": "stream",
     "text": [
      "  Batch 0: Loss: 0.0798, Acc: 0.9688\n"
     ]
    },
    {
     "name": "stderr",
     "output_type": "stream",
     "text": [
      "Epoch 5:  45%|████▍     | 209/469 [00:03<00:03, 73.25it/s]"
     ]
    },
    {
     "name": "stdout",
     "output_type": "stream",
     "text": [
      "  Batch 200: Loss: 0.0948, Acc: 0.9453\n"
     ]
    },
    {
     "name": "stderr",
     "output_type": "stream",
     "text": [
      "Epoch 5:  87%|████████▋ | 409/469 [00:05<00:00, 74.20it/s]"
     ]
    },
    {
     "name": "stdout",
     "output_type": "stream",
     "text": [
      "  Batch 400: Loss: 0.1036, Acc: 0.9609\n"
     ]
    },
    {
     "name": "stderr",
     "output_type": "stream",
     "text": [
      "Epoch 5: 100%|██████████| 469/469 [00:06<00:00, 68.50it/s]\n"
     ]
    },
    {
     "name": "stdout",
     "output_type": "stream",
     "text": [
      "  Train Loss: 0.0840 Acc: 0.9730\n",
      "Epoch 6/15\n",
      "----------\n"
     ]
    },
    {
     "name": "stderr",
     "output_type": "stream",
     "text": [
      "Epoch 6:   2%|▏         | 9/469 [00:00<00:19, 23.45it/s]"
     ]
    },
    {
     "name": "stdout",
     "output_type": "stream",
     "text": [
      "  Batch 0: Loss: 0.0855, Acc: 0.9766\n"
     ]
    },
    {
     "name": "stderr",
     "output_type": "stream",
     "text": [
      "Epoch 6:  45%|████▍     | 209/469 [00:03<00:03, 72.78it/s]"
     ]
    },
    {
     "name": "stdout",
     "output_type": "stream",
     "text": [
      "  Batch 200: Loss: 0.0909, Acc: 0.9688\n"
     ]
    },
    {
     "name": "stderr",
     "output_type": "stream",
     "text": [
      "Epoch 6:  87%|████████▋ | 409/469 [00:05<00:00, 73.64it/s]"
     ]
    },
    {
     "name": "stdout",
     "output_type": "stream",
     "text": [
      "  Batch 400: Loss: 0.0394, Acc: 0.9922\n"
     ]
    },
    {
     "name": "stderr",
     "output_type": "stream",
     "text": [
      "Epoch 6: 100%|██████████| 469/469 [00:06<00:00, 68.53it/s]\n"
     ]
    },
    {
     "name": "stdout",
     "output_type": "stream",
     "text": [
      "  Train Loss: 0.0802 Acc: 0.9740\n",
      "Epoch 7/15\n",
      "----------\n"
     ]
    },
    {
     "name": "stderr",
     "output_type": "stream",
     "text": [
      "Epoch 7:   2%|▏         | 9/469 [00:00<00:18, 24.86it/s]"
     ]
    },
    {
     "name": "stdout",
     "output_type": "stream",
     "text": [
      "  Batch 0: Loss: 0.1612, Acc: 0.9688\n"
     ]
    },
    {
     "name": "stderr",
     "output_type": "stream",
     "text": [
      "Epoch 7:  45%|████▍     | 209/469 [00:03<00:03, 74.03it/s]"
     ]
    },
    {
     "name": "stdout",
     "output_type": "stream",
     "text": [
      "  Batch 200: Loss: 0.1623, Acc: 0.9609\n"
     ]
    },
    {
     "name": "stderr",
     "output_type": "stream",
     "text": [
      "Epoch 7:  87%|████████▋ | 409/469 [00:05<00:00, 73.12it/s]"
     ]
    },
    {
     "name": "stdout",
     "output_type": "stream",
     "text": [
      "  Batch 400: Loss: 0.0622, Acc: 0.9766\n"
     ]
    },
    {
     "name": "stderr",
     "output_type": "stream",
     "text": [
      "Epoch 7: 100%|██████████| 469/469 [00:06<00:00, 68.36it/s]\n"
     ]
    },
    {
     "name": "stdout",
     "output_type": "stream",
     "text": [
      "  Train Loss: 0.0742 Acc: 0.9760\n",
      "Epoch 8/15\n",
      "----------\n"
     ]
    },
    {
     "name": "stderr",
     "output_type": "stream",
     "text": [
      "Epoch 8:   2%|▏         | 9/469 [00:00<00:19, 23.56it/s]"
     ]
    },
    {
     "name": "stdout",
     "output_type": "stream",
     "text": [
      "  Batch 0: Loss: 0.0525, Acc: 0.9766\n"
     ]
    },
    {
     "name": "stderr",
     "output_type": "stream",
     "text": [
      "Epoch 8:  45%|████▍     | 209/469 [00:03<00:03, 70.89it/s]"
     ]
    },
    {
     "name": "stdout",
     "output_type": "stream",
     "text": [
      "  Batch 200: Loss: 0.0486, Acc: 0.9766\n"
     ]
    },
    {
     "name": "stderr",
     "output_type": "stream",
     "text": [
      "Epoch 8:  87%|████████▋ | 409/469 [00:06<00:00, 71.46it/s]"
     ]
    },
    {
     "name": "stdout",
     "output_type": "stream",
     "text": [
      "  Batch 400: Loss: 0.0906, Acc: 0.9609\n"
     ]
    },
    {
     "name": "stderr",
     "output_type": "stream",
     "text": [
      "Epoch 8: 100%|██████████| 469/469 [00:06<00:00, 67.72it/s]\n"
     ]
    },
    {
     "name": "stdout",
     "output_type": "stream",
     "text": [
      "  Train Loss: 0.0707 Acc: 0.9784\n",
      "Epoch 9/15\n",
      "----------\n"
     ]
    },
    {
     "name": "stderr",
     "output_type": "stream",
     "text": [
      "Epoch 9:   2%|▏         | 9/469 [00:00<00:19, 23.28it/s]"
     ]
    },
    {
     "name": "stdout",
     "output_type": "stream",
     "text": [
      "  Batch 0: Loss: 0.0596, Acc: 0.9688\n"
     ]
    },
    {
     "name": "stderr",
     "output_type": "stream",
     "text": [
      "Epoch 9:  45%|████▍     | 209/469 [00:03<00:03, 71.22it/s]"
     ]
    },
    {
     "name": "stdout",
     "output_type": "stream",
     "text": [
      "  Batch 200: Loss: 0.0413, Acc: 0.9844\n"
     ]
    },
    {
     "name": "stderr",
     "output_type": "stream",
     "text": [
      "Epoch 9:  87%|████████▋ | 409/469 [00:06<00:00, 71.30it/s]"
     ]
    },
    {
     "name": "stdout",
     "output_type": "stream",
     "text": [
      "  Batch 400: Loss: 0.0772, Acc: 0.9609\n"
     ]
    },
    {
     "name": "stderr",
     "output_type": "stream",
     "text": [
      "Epoch 9: 100%|██████████| 469/469 [00:07<00:00, 66.98it/s]\n"
     ]
    },
    {
     "name": "stdout",
     "output_type": "stream",
     "text": [
      "  Train Loss: 0.0686 Acc: 0.9786\n",
      "Epoch 10/15\n",
      "----------\n"
     ]
    },
    {
     "name": "stderr",
     "output_type": "stream",
     "text": [
      "Epoch 10:   2%|▏         | 9/469 [00:00<00:19, 23.82it/s]"
     ]
    },
    {
     "name": "stdout",
     "output_type": "stream",
     "text": [
      "  Batch 0: Loss: 0.0126, Acc: 1.0000\n"
     ]
    },
    {
     "name": "stderr",
     "output_type": "stream",
     "text": [
      "Epoch 10:  44%|████▍     | 208/469 [00:03<00:03, 71.64it/s]"
     ]
    },
    {
     "name": "stdout",
     "output_type": "stream",
     "text": [
      "  Batch 200: Loss: 0.0842, Acc: 0.9766\n"
     ]
    },
    {
     "name": "stderr",
     "output_type": "stream",
     "text": [
      "Epoch 10:  87%|████████▋ | 408/469 [00:06<00:00, 71.74it/s]"
     ]
    },
    {
     "name": "stdout",
     "output_type": "stream",
     "text": [
      "  Batch 400: Loss: 0.0239, Acc: 0.9922\n"
     ]
    },
    {
     "name": "stderr",
     "output_type": "stream",
     "text": [
      "Epoch 10: 100%|██████████| 469/469 [00:06<00:00, 67.79it/s]\n"
     ]
    },
    {
     "name": "stdout",
     "output_type": "stream",
     "text": [
      "  Train Loss: 0.0643 Acc: 0.9798\n",
      "Epoch 11/15\n",
      "----------\n"
     ]
    },
    {
     "name": "stderr",
     "output_type": "stream",
     "text": [
      "Epoch 11:   2%|▏         | 9/469 [00:00<00:19, 23.81it/s]"
     ]
    },
    {
     "name": "stdout",
     "output_type": "stream",
     "text": [
      "  Batch 0: Loss: 0.0600, Acc: 0.9844\n"
     ]
    },
    {
     "name": "stderr",
     "output_type": "stream",
     "text": [
      "Epoch 11:  45%|████▍     | 209/469 [00:03<00:03, 72.81it/s]"
     ]
    },
    {
     "name": "stdout",
     "output_type": "stream",
     "text": [
      "  Batch 200: Loss: 0.0275, Acc: 1.0000\n"
     ]
    },
    {
     "name": "stderr",
     "output_type": "stream",
     "text": [
      "Epoch 11:  87%|████████▋ | 409/469 [00:05<00:00, 72.85it/s]"
     ]
    },
    {
     "name": "stdout",
     "output_type": "stream",
     "text": [
      "  Batch 400: Loss: 0.0205, Acc: 0.9844\n"
     ]
    },
    {
     "name": "stderr",
     "output_type": "stream",
     "text": [
      "Epoch 11: 100%|██████████| 469/469 [00:06<00:00, 68.44it/s]\n"
     ]
    },
    {
     "name": "stdout",
     "output_type": "stream",
     "text": [
      "  Train Loss: 0.0626 Acc: 0.9802\n",
      "Epoch 12/15\n",
      "----------\n"
     ]
    },
    {
     "name": "stderr",
     "output_type": "stream",
     "text": [
      "Epoch 12:   2%|▏         | 9/469 [00:00<00:20, 22.97it/s]"
     ]
    },
    {
     "name": "stdout",
     "output_type": "stream",
     "text": [
      "  Batch 0: Loss: 0.0841, Acc: 0.9609\n"
     ]
    },
    {
     "name": "stderr",
     "output_type": "stream",
     "text": [
      "Epoch 12:  44%|████▍     | 208/469 [00:03<00:03, 73.22it/s]"
     ]
    },
    {
     "name": "stdout",
     "output_type": "stream",
     "text": [
      "  Batch 200: Loss: 0.0214, Acc: 0.9922\n"
     ]
    },
    {
     "name": "stderr",
     "output_type": "stream",
     "text": [
      "Epoch 12:  87%|████████▋ | 408/469 [00:05<00:00, 74.16it/s]"
     ]
    },
    {
     "name": "stdout",
     "output_type": "stream",
     "text": [
      "  Batch 400: Loss: 0.0216, Acc: 1.0000\n"
     ]
    },
    {
     "name": "stderr",
     "output_type": "stream",
     "text": [
      "Epoch 12: 100%|██████████| 469/469 [00:06<00:00, 68.64it/s]\n"
     ]
    },
    {
     "name": "stdout",
     "output_type": "stream",
     "text": [
      "  Train Loss: 0.0592 Acc: 0.9818\n",
      "Epoch 13/15\n",
      "----------\n"
     ]
    },
    {
     "name": "stderr",
     "output_type": "stream",
     "text": [
      "Epoch 13:   2%|▏         | 9/469 [00:00<00:19, 23.32it/s]"
     ]
    },
    {
     "name": "stdout",
     "output_type": "stream",
     "text": [
      "  Batch 0: Loss: 0.0682, Acc: 0.9688\n"
     ]
    },
    {
     "name": "stderr",
     "output_type": "stream",
     "text": [
      "Epoch 13:  45%|████▍     | 209/469 [00:03<00:03, 74.12it/s]"
     ]
    },
    {
     "name": "stdout",
     "output_type": "stream",
     "text": [
      "  Batch 200: Loss: 0.0354, Acc: 0.9844\n"
     ]
    },
    {
     "name": "stderr",
     "output_type": "stream",
     "text": [
      "Epoch 13:  87%|████████▋ | 409/469 [00:05<00:00, 74.09it/s]"
     ]
    },
    {
     "name": "stdout",
     "output_type": "stream",
     "text": [
      "  Batch 400: Loss: 0.0373, Acc: 0.9844\n"
     ]
    },
    {
     "name": "stderr",
     "output_type": "stream",
     "text": [
      "Epoch 13: 100%|██████████| 469/469 [00:06<00:00, 69.42it/s]\n"
     ]
    },
    {
     "name": "stdout",
     "output_type": "stream",
     "text": [
      "  Train Loss: 0.0595 Acc: 0.9816\n",
      "  No improvement in loss for 1 epochs.\n",
      "Epoch 14/15\n",
      "----------\n"
     ]
    },
    {
     "name": "stderr",
     "output_type": "stream",
     "text": [
      "Epoch 14:   2%|▏         | 9/469 [00:00<00:19, 23.78it/s]"
     ]
    },
    {
     "name": "stdout",
     "output_type": "stream",
     "text": [
      "  Batch 0: Loss: 0.0145, Acc: 1.0000\n"
     ]
    },
    {
     "name": "stderr",
     "output_type": "stream",
     "text": [
      "Epoch 14:  45%|████▍     | 209/469 [00:03<00:03, 73.88it/s]"
     ]
    },
    {
     "name": "stdout",
     "output_type": "stream",
     "text": [
      "  Batch 200: Loss: 0.0428, Acc: 0.9844\n"
     ]
    },
    {
     "name": "stderr",
     "output_type": "stream",
     "text": [
      "Epoch 14:  87%|████████▋ | 409/469 [00:05<00:00, 73.01it/s]"
     ]
    },
    {
     "name": "stdout",
     "output_type": "stream",
     "text": [
      "  Batch 400: Loss: 0.0770, Acc: 0.9844\n"
     ]
    },
    {
     "name": "stderr",
     "output_type": "stream",
     "text": [
      "Epoch 14: 100%|██████████| 469/469 [00:06<00:00, 69.34it/s]\n"
     ]
    },
    {
     "name": "stdout",
     "output_type": "stream",
     "text": [
      "  Train Loss: 0.0566 Acc: 0.9819\n",
      "Epoch 15/15\n",
      "----------\n"
     ]
    },
    {
     "name": "stderr",
     "output_type": "stream",
     "text": [
      "Epoch 15:   2%|▏         | 9/469 [00:00<00:19, 23.28it/s]"
     ]
    },
    {
     "name": "stdout",
     "output_type": "stream",
     "text": [
      "  Batch 0: Loss: 0.0131, Acc: 0.9922\n"
     ]
    },
    {
     "name": "stderr",
     "output_type": "stream",
     "text": [
      "Epoch 15:  45%|████▍     | 209/469 [00:03<00:03, 74.57it/s]"
     ]
    },
    {
     "name": "stdout",
     "output_type": "stream",
     "text": [
      "  Batch 200: Loss: 0.0176, Acc: 1.0000\n"
     ]
    },
    {
     "name": "stderr",
     "output_type": "stream",
     "text": [
      "Epoch 15:  87%|████████▋ | 409/469 [00:05<00:00, 74.54it/s]"
     ]
    },
    {
     "name": "stdout",
     "output_type": "stream",
     "text": [
      "  Batch 400: Loss: 0.0782, Acc: 0.9688\n"
     ]
    },
    {
     "name": "stderr",
     "output_type": "stream",
     "text": [
      "Epoch 15: 100%|██████████| 469/469 [00:06<00:00, 69.44it/s]"
     ]
    },
    {
     "name": "stdout",
     "output_type": "stream",
     "text": [
      "  Train Loss: 0.0545 Acc: 0.9827\n",
      "Entrenamiento completado en 1m 43s\n",
      "Precisión Final: 0.9827\n"
     ]
    },
    {
     "name": "stderr",
     "output_type": "stream",
     "text": [
      "\n",
      "/home/clown/2-semester/vision_individual/vision_env/lib/python3.11/site-packages/torchvision/models/_utils.py:208: UserWarning: The parameter 'pretrained' is deprecated since 0.13 and may be removed in the future, please use 'weights' instead.\n",
      "  warnings.warn(\n",
      "/home/clown/2-semester/vision_individual/vision_env/lib/python3.11/site-packages/torchvision/models/_utils.py:223: UserWarning: Arguments other than a weight enum or `None` for 'weights' are deprecated since 0.13 and may be removed in the future. The current behavior is equivalent to passing `weights=None`.\n",
      "  warnings.warn(msg)\n"
     ]
    },
    {
     "name": "stdout",
     "output_type": "stream",
     "text": [
      "Precisión en test: 0.8640\n",
      "F1 Score: 0.8542\n",
      "\n",
      "\n",
      "DESDE CERO SIN DA\n",
      "==================================================\n",
      "Usando dispositivo: GPU\n",
      "Epoch 1/15\n",
      "----------\n"
     ]
    },
    {
     "name": "stderr",
     "output_type": "stream",
     "text": [
      "Epoch 1:   2%|▏         | 10/469 [00:00<00:16, 27.73it/s]"
     ]
    },
    {
     "name": "stdout",
     "output_type": "stream",
     "text": [
      "  Batch 0: Loss: 2.4751, Acc: 0.1562\n"
     ]
    },
    {
     "name": "stderr",
     "output_type": "stream",
     "text": [
      "Epoch 1:  46%|████▋     | 217/469 [00:02<00:02, 86.65it/s]"
     ]
    },
    {
     "name": "stdout",
     "output_type": "stream",
     "text": [
      "  Batch 200: Loss: 0.1542, Acc: 0.9375\n"
     ]
    },
    {
     "name": "stderr",
     "output_type": "stream",
     "text": [
      "Epoch 1:  88%|████████▊ | 415/469 [00:05<00:00, 87.10it/s]"
     ]
    },
    {
     "name": "stdout",
     "output_type": "stream",
     "text": [
      "  Batch 400: Loss: 0.1666, Acc: 0.9375\n"
     ]
    },
    {
     "name": "stderr",
     "output_type": "stream",
     "text": [
      "Epoch 1: 100%|██████████| 469/469 [00:05<00:00, 81.18it/s]\n"
     ]
    },
    {
     "name": "stdout",
     "output_type": "stream",
     "text": [
      "  Train Loss: 0.1762 Acc: 0.9464\n",
      "Epoch 2/15\n",
      "----------\n"
     ]
    },
    {
     "name": "stderr",
     "output_type": "stream",
     "text": [
      "Epoch 2:   2%|▏         | 10/469 [00:00<00:15, 28.75it/s]"
     ]
    },
    {
     "name": "stdout",
     "output_type": "stream",
     "text": [
      "  Batch 0: Loss: 0.0299, Acc: 0.9922\n"
     ]
    },
    {
     "name": "stderr",
     "output_type": "stream",
     "text": [
      "Epoch 2:  46%|████▋     | 218/469 [00:02<00:02, 87.08it/s]"
     ]
    },
    {
     "name": "stdout",
     "output_type": "stream",
     "text": [
      "  Batch 200: Loss: 0.0623, Acc: 0.9766\n"
     ]
    },
    {
     "name": "stderr",
     "output_type": "stream",
     "text": [
      "Epoch 2:  89%|████████▉ | 417/469 [00:05<00:00, 86.79it/s]"
     ]
    },
    {
     "name": "stdout",
     "output_type": "stream",
     "text": [
      "  Batch 400: Loss: 0.0590, Acc: 0.9766\n"
     ]
    },
    {
     "name": "stderr",
     "output_type": "stream",
     "text": [
      "Epoch 2: 100%|██████████| 469/469 [00:05<00:00, 81.81it/s]\n"
     ]
    },
    {
     "name": "stdout",
     "output_type": "stream",
     "text": [
      "  Train Loss: 0.0465 Acc: 0.9855\n",
      "Epoch 3/15\n",
      "----------\n"
     ]
    },
    {
     "name": "stderr",
     "output_type": "stream",
     "text": [
      "Epoch 3:   2%|▏         | 10/469 [00:00<00:15, 28.83it/s]"
     ]
    },
    {
     "name": "stdout",
     "output_type": "stream",
     "text": [
      "  Batch 0: Loss: 0.0244, Acc: 0.9844\n"
     ]
    },
    {
     "name": "stderr",
     "output_type": "stream",
     "text": [
      "Epoch 3:  45%|████▌     | 213/469 [00:02<00:02, 88.76it/s]"
     ]
    },
    {
     "name": "stdout",
     "output_type": "stream",
     "text": [
      "  Batch 200: Loss: 0.0171, Acc: 1.0000\n"
     ]
    },
    {
     "name": "stderr",
     "output_type": "stream",
     "text": [
      "Epoch 3:  89%|████████▊ | 416/469 [00:05<00:00, 89.08it/s]"
     ]
    },
    {
     "name": "stdout",
     "output_type": "stream",
     "text": [
      "  Batch 400: Loss: 0.0769, Acc: 0.9609\n"
     ]
    },
    {
     "name": "stderr",
     "output_type": "stream",
     "text": [
      "Epoch 3: 100%|██████████| 469/469 [00:05<00:00, 82.98it/s]\n"
     ]
    },
    {
     "name": "stdout",
     "output_type": "stream",
     "text": [
      "  Train Loss: 0.0245 Acc: 0.9923\n",
      "Epoch 4/15\n",
      "----------\n"
     ]
    },
    {
     "name": "stderr",
     "output_type": "stream",
     "text": [
      "Epoch 4:   2%|▏         | 10/469 [00:00<00:16, 28.46it/s]"
     ]
    },
    {
     "name": "stdout",
     "output_type": "stream",
     "text": [
      "  Batch 0: Loss: 0.0153, Acc: 0.9922\n"
     ]
    },
    {
     "name": "stderr",
     "output_type": "stream",
     "text": [
      "Epoch 4:  46%|████▋     | 217/469 [00:02<00:02, 86.09it/s]"
     ]
    },
    {
     "name": "stdout",
     "output_type": "stream",
     "text": [
      "  Batch 200: Loss: 0.0108, Acc: 1.0000\n"
     ]
    },
    {
     "name": "stderr",
     "output_type": "stream",
     "text": [
      "Epoch 4:  88%|████████▊ | 415/469 [00:05<00:00, 86.59it/s]"
     ]
    },
    {
     "name": "stdout",
     "output_type": "stream",
     "text": [
      "  Batch 400: Loss: 0.0137, Acc: 0.9922\n"
     ]
    },
    {
     "name": "stderr",
     "output_type": "stream",
     "text": [
      "Epoch 4: 100%|██████████| 469/469 [00:05<00:00, 81.05it/s]\n"
     ]
    },
    {
     "name": "stdout",
     "output_type": "stream",
     "text": [
      "  Train Loss: 0.0180 Acc: 0.9942\n",
      "Epoch 5/15\n",
      "----------\n"
     ]
    },
    {
     "name": "stderr",
     "output_type": "stream",
     "text": [
      "Epoch 5:   2%|▏         | 10/469 [00:00<00:16, 27.75it/s]"
     ]
    },
    {
     "name": "stdout",
     "output_type": "stream",
     "text": [
      "  Batch 0: Loss: 0.0157, Acc: 0.9922\n"
     ]
    },
    {
     "name": "stderr",
     "output_type": "stream",
     "text": [
      "Epoch 5:  46%|████▋     | 217/469 [00:02<00:02, 86.35it/s]"
     ]
    },
    {
     "name": "stdout",
     "output_type": "stream",
     "text": [
      "  Batch 200: Loss: 0.0027, Acc: 1.0000\n"
     ]
    },
    {
     "name": "stderr",
     "output_type": "stream",
     "text": [
      "Epoch 5:  88%|████████▊ | 415/469 [00:05<00:00, 87.19it/s]"
     ]
    },
    {
     "name": "stdout",
     "output_type": "stream",
     "text": [
      "  Batch 400: Loss: 0.0072, Acc: 0.9922\n"
     ]
    },
    {
     "name": "stderr",
     "output_type": "stream",
     "text": [
      "Epoch 5: 100%|██████████| 469/469 [00:05<00:00, 80.57it/s]\n"
     ]
    },
    {
     "name": "stdout",
     "output_type": "stream",
     "text": [
      "  Train Loss: 0.0152 Acc: 0.9950\n",
      "Epoch 6/15\n",
      "----------\n"
     ]
    },
    {
     "name": "stderr",
     "output_type": "stream",
     "text": [
      "Epoch 6:   2%|▏         | 9/469 [00:00<00:17, 25.80it/s]"
     ]
    },
    {
     "name": "stdout",
     "output_type": "stream",
     "text": [
      "  Batch 0: Loss: 0.0032, Acc: 1.0000\n"
     ]
    },
    {
     "name": "stderr",
     "output_type": "stream",
     "text": [
      "Epoch 6:  46%|████▋     | 217/469 [00:02<00:02, 88.68it/s]"
     ]
    },
    {
     "name": "stdout",
     "output_type": "stream",
     "text": [
      "  Batch 200: Loss: 0.0201, Acc: 0.9922\n"
     ]
    },
    {
     "name": "stderr",
     "output_type": "stream",
     "text": [
      "Epoch 6:  88%|████████▊ | 415/469 [00:05<00:00, 89.61it/s]"
     ]
    },
    {
     "name": "stdout",
     "output_type": "stream",
     "text": [
      "  Batch 400: Loss: 0.0057, Acc: 1.0000\n"
     ]
    },
    {
     "name": "stderr",
     "output_type": "stream",
     "text": [
      "Epoch 6: 100%|██████████| 469/469 [00:05<00:00, 82.24it/s]\n"
     ]
    },
    {
     "name": "stdout",
     "output_type": "stream",
     "text": [
      "  Train Loss: 0.0133 Acc: 0.9960\n",
      "Epoch 7/15\n",
      "----------\n"
     ]
    },
    {
     "name": "stderr",
     "output_type": "stream",
     "text": [
      "Epoch 7:   2%|▏         | 10/469 [00:00<00:16, 28.68it/s]"
     ]
    },
    {
     "name": "stdout",
     "output_type": "stream",
     "text": [
      "  Batch 0: Loss: 0.0140, Acc: 0.9922\n"
     ]
    },
    {
     "name": "stderr",
     "output_type": "stream",
     "text": [
      "Epoch 7:  46%|████▋     | 217/469 [00:02<00:02, 87.54it/s]"
     ]
    },
    {
     "name": "stdout",
     "output_type": "stream",
     "text": [
      "  Batch 200: Loss: 0.0159, Acc: 0.9922\n"
     ]
    },
    {
     "name": "stderr",
     "output_type": "stream",
     "text": [
      "Epoch 7:  88%|████████▊ | 415/469 [00:05<00:00, 86.73it/s]"
     ]
    },
    {
     "name": "stdout",
     "output_type": "stream",
     "text": [
      "  Batch 400: Loss: 0.0102, Acc: 1.0000\n"
     ]
    },
    {
     "name": "stderr",
     "output_type": "stream",
     "text": [
      "Epoch 7: 100%|██████████| 469/469 [00:05<00:00, 81.11it/s]\n"
     ]
    },
    {
     "name": "stdout",
     "output_type": "stream",
     "text": [
      "  Train Loss: 0.0105 Acc: 0.9966\n",
      "Epoch 8/15\n",
      "----------\n"
     ]
    },
    {
     "name": "stderr",
     "output_type": "stream",
     "text": [
      "Epoch 8:   2%|▏         | 10/469 [00:00<00:16, 27.91it/s]"
     ]
    },
    {
     "name": "stdout",
     "output_type": "stream",
     "text": [
      "  Batch 0: Loss: 0.0004, Acc: 1.0000\n"
     ]
    },
    {
     "name": "stderr",
     "output_type": "stream",
     "text": [
      "Epoch 8:  45%|████▍     | 211/469 [00:02<00:02, 87.32it/s]"
     ]
    },
    {
     "name": "stdout",
     "output_type": "stream",
     "text": [
      "  Batch 200: Loss: 0.0031, Acc: 1.0000\n"
     ]
    },
    {
     "name": "stderr",
     "output_type": "stream",
     "text": [
      "Epoch 8:  87%|████████▋ | 410/469 [00:04<00:00, 90.52it/s]"
     ]
    },
    {
     "name": "stdout",
     "output_type": "stream",
     "text": [
      "  Batch 400: Loss: 0.0162, Acc: 0.9922\n"
     ]
    },
    {
     "name": "stderr",
     "output_type": "stream",
     "text": [
      "Epoch 8: 100%|██████████| 469/469 [00:05<00:00, 82.58it/s]\n"
     ]
    },
    {
     "name": "stdout",
     "output_type": "stream",
     "text": [
      "  Train Loss: 0.0115 Acc: 0.9960\n",
      "  No improvement in loss for 1 epochs.\n",
      "Epoch 9/15\n",
      "----------\n"
     ]
    },
    {
     "name": "stderr",
     "output_type": "stream",
     "text": [
      "Epoch 9:   2%|▏         | 10/469 [00:00<00:16, 27.99it/s]"
     ]
    },
    {
     "name": "stdout",
     "output_type": "stream",
     "text": [
      "  Batch 0: Loss: 0.0021, Acc: 1.0000\n"
     ]
    },
    {
     "name": "stderr",
     "output_type": "stream",
     "text": [
      "Epoch 9:  46%|████▋     | 218/469 [00:02<00:02, 86.16it/s]"
     ]
    },
    {
     "name": "stdout",
     "output_type": "stream",
     "text": [
      "  Batch 200: Loss: 0.0057, Acc: 0.9922\n"
     ]
    },
    {
     "name": "stderr",
     "output_type": "stream",
     "text": [
      "Epoch 9:  89%|████████▊ | 416/469 [00:05<00:00, 86.53it/s]"
     ]
    },
    {
     "name": "stdout",
     "output_type": "stream",
     "text": [
      "  Batch 400: Loss: 0.0492, Acc: 0.9844\n"
     ]
    },
    {
     "name": "stderr",
     "output_type": "stream",
     "text": [
      "Epoch 9: 100%|██████████| 469/469 [00:05<00:00, 80.42it/s]"
     ]
    },
    {
     "name": "stdout",
     "output_type": "stream",
     "text": [
      "  Train Loss: 0.0108 Acc: 0.9966\n",
      "  No improvement in loss for 2 epochs.\n",
      "  Early stopping triggered after 9 epochs.\n",
      "Entrenamiento completado en 0m 52s\n",
      "Precisión Final: 0.9966\n"
     ]
    },
    {
     "name": "stderr",
     "output_type": "stream",
     "text": [
      "\n",
      "/home/clown/2-semester/vision_individual/vision_env/lib/python3.11/site-packages/torchvision/models/_utils.py:208: UserWarning: The parameter 'pretrained' is deprecated since 0.13 and may be removed in the future, please use 'weights' instead.\n",
      "  warnings.warn(\n",
      "/home/clown/2-semester/vision_individual/vision_env/lib/python3.11/site-packages/torchvision/models/_utils.py:223: UserWarning: Arguments other than a weight enum or `None` for 'weights' are deprecated since 0.13 and may be removed in the future. The current behavior is equivalent to passing `weights=None`.\n",
      "  warnings.warn(msg)\n"
     ]
    },
    {
     "name": "stdout",
     "output_type": "stream",
     "text": [
      "Precisión en test: 0.9862\n",
      "F1 Score: 0.9861\n",
      "\n",
      "\n",
      "DESDE CERO CON DA\n",
      "==================================================\n",
      "Usando dispositivo: GPU\n",
      "Epoch 1/15\n",
      "----------\n"
     ]
    },
    {
     "name": "stderr",
     "output_type": "stream",
     "text": [
      "Epoch 1:   2%|▏         | 9/469 [00:00<00:19, 23.70it/s]"
     ]
    },
    {
     "name": "stdout",
     "output_type": "stream",
     "text": [
      "  Batch 0: Loss: 2.5923, Acc: 0.1016\n"
     ]
    },
    {
     "name": "stderr",
     "output_type": "stream",
     "text": [
      "Epoch 1:  45%|████▍     | 209/469 [00:03<00:03, 73.87it/s]"
     ]
    },
    {
     "name": "stdout",
     "output_type": "stream",
     "text": [
      "  Batch 200: Loss: 1.0835, Acc: 0.6562\n"
     ]
    },
    {
     "name": "stderr",
     "output_type": "stream",
     "text": [
      "Epoch 1:  87%|████████▋ | 409/469 [00:05<00:00, 74.46it/s]"
     ]
    },
    {
     "name": "stdout",
     "output_type": "stream",
     "text": [
      "  Batch 400: Loss: 0.6791, Acc: 0.7500\n"
     ]
    },
    {
     "name": "stderr",
     "output_type": "stream",
     "text": [
      "Epoch 1: 100%|██████████| 469/469 [00:06<00:00, 69.72it/s]\n"
     ]
    },
    {
     "name": "stdout",
     "output_type": "stream",
     "text": [
      "  Train Loss: 1.1806 Acc: 0.5920\n",
      "Epoch 2/15\n",
      "----------\n"
     ]
    },
    {
     "name": "stderr",
     "output_type": "stream",
     "text": [
      "Epoch 2:   2%|▏         | 9/469 [00:00<00:19, 23.86it/s]"
     ]
    },
    {
     "name": "stdout",
     "output_type": "stream",
     "text": [
      "  Batch 0: Loss: 0.7415, Acc: 0.7344\n"
     ]
    },
    {
     "name": "stderr",
     "output_type": "stream",
     "text": [
      "Epoch 2:  45%|████▍     | 209/469 [00:03<00:03, 73.01it/s]"
     ]
    },
    {
     "name": "stdout",
     "output_type": "stream",
     "text": [
      "  Batch 200: Loss: 0.4801, Acc: 0.8359\n"
     ]
    },
    {
     "name": "stderr",
     "output_type": "stream",
     "text": [
      "Epoch 2:  87%|████████▋ | 409/469 [00:05<00:00, 72.99it/s]"
     ]
    },
    {
     "name": "stdout",
     "output_type": "stream",
     "text": [
      "  Batch 400: Loss: 0.4798, Acc: 0.8438\n"
     ]
    },
    {
     "name": "stderr",
     "output_type": "stream",
     "text": [
      "Epoch 2: 100%|██████████| 469/469 [00:06<00:00, 68.49it/s]\n"
     ]
    },
    {
     "name": "stdout",
     "output_type": "stream",
     "text": [
      "  Train Loss: 0.4765 Acc: 0.8442\n",
      "Epoch 3/15\n",
      "----------\n"
     ]
    },
    {
     "name": "stderr",
     "output_type": "stream",
     "text": [
      "Epoch 3:   2%|▏         | 9/469 [00:00<00:19, 23.23it/s]"
     ]
    },
    {
     "name": "stdout",
     "output_type": "stream",
     "text": [
      "  Batch 0: Loss: 0.2917, Acc: 0.8750\n"
     ]
    },
    {
     "name": "stderr",
     "output_type": "stream",
     "text": [
      "Epoch 3:  45%|████▍     | 209/469 [00:03<00:03, 73.08it/s]"
     ]
    },
    {
     "name": "stdout",
     "output_type": "stream",
     "text": [
      "  Batch 200: Loss: 0.2807, Acc: 0.8984\n"
     ]
    },
    {
     "name": "stderr",
     "output_type": "stream",
     "text": [
      "Epoch 3:  87%|████████▋ | 409/469 [00:06<00:00, 70.29it/s]"
     ]
    },
    {
     "name": "stdout",
     "output_type": "stream",
     "text": [
      "  Batch 400: Loss: 0.1621, Acc: 0.9375\n"
     ]
    },
    {
     "name": "stderr",
     "output_type": "stream",
     "text": [
      "Epoch 3: 100%|██████████| 469/469 [00:06<00:00, 68.01it/s]\n"
     ]
    },
    {
     "name": "stdout",
     "output_type": "stream",
     "text": [
      "  Train Loss: 0.3359 Acc: 0.8905\n",
      "Epoch 4/15\n",
      "----------\n"
     ]
    },
    {
     "name": "stderr",
     "output_type": "stream",
     "text": [
      "Epoch 4:   2%|▏         | 9/469 [00:00<00:19, 23.20it/s]"
     ]
    },
    {
     "name": "stdout",
     "output_type": "stream",
     "text": [
      "  Batch 0: Loss: 0.3705, Acc: 0.8828\n"
     ]
    },
    {
     "name": "stderr",
     "output_type": "stream",
     "text": [
      "Epoch 4:  44%|████▍     | 208/469 [00:03<00:03, 69.79it/s]"
     ]
    },
    {
     "name": "stdout",
     "output_type": "stream",
     "text": [
      "  Batch 200: Loss: 0.2702, Acc: 0.9141\n"
     ]
    },
    {
     "name": "stderr",
     "output_type": "stream",
     "text": [
      "Epoch 4:  88%|████████▊ | 415/469 [00:06<00:00, 71.71it/s]"
     ]
    },
    {
     "name": "stdout",
     "output_type": "stream",
     "text": [
      "  Batch 400: Loss: 0.2756, Acc: 0.9219\n"
     ]
    },
    {
     "name": "stderr",
     "output_type": "stream",
     "text": [
      "Epoch 4: 100%|██████████| 469/469 [00:07<00:00, 66.61it/s]\n"
     ]
    },
    {
     "name": "stdout",
     "output_type": "stream",
     "text": [
      "  Train Loss: 0.2683 Acc: 0.9135\n",
      "Epoch 5/15\n",
      "----------\n"
     ]
    },
    {
     "name": "stderr",
     "output_type": "stream",
     "text": [
      "Epoch 5:   2%|▏         | 9/469 [00:00<00:19, 23.06it/s]"
     ]
    },
    {
     "name": "stdout",
     "output_type": "stream",
     "text": [
      "  Batch 0: Loss: 0.3309, Acc: 0.8984\n"
     ]
    },
    {
     "name": "stderr",
     "output_type": "stream",
     "text": [
      "Epoch 5:  46%|████▌     | 214/469 [00:03<00:03, 71.01it/s]"
     ]
    },
    {
     "name": "stdout",
     "output_type": "stream",
     "text": [
      "  Batch 200: Loss: 0.2335, Acc: 0.9297\n"
     ]
    },
    {
     "name": "stderr",
     "output_type": "stream",
     "text": [
      "Epoch 5:  88%|████████▊ | 414/469 [00:06<00:00, 70.53it/s]"
     ]
    },
    {
     "name": "stdout",
     "output_type": "stream",
     "text": [
      "  Batch 400: Loss: 0.1554, Acc: 0.9531\n"
     ]
    },
    {
     "name": "stderr",
     "output_type": "stream",
     "text": [
      "Epoch 5: 100%|██████████| 469/469 [00:07<00:00, 66.53it/s]\n"
     ]
    },
    {
     "name": "stdout",
     "output_type": "stream",
     "text": [
      "  Train Loss: 0.2256 Acc: 0.9263\n",
      "Epoch 6/15\n",
      "----------\n"
     ]
    },
    {
     "name": "stderr",
     "output_type": "stream",
     "text": [
      "Epoch 6:   2%|▏         | 9/469 [00:00<00:19, 23.49it/s]"
     ]
    },
    {
     "name": "stdout",
     "output_type": "stream",
     "text": [
      "  Batch 0: Loss: 0.2541, Acc: 0.9062\n"
     ]
    },
    {
     "name": "stderr",
     "output_type": "stream",
     "text": [
      "Epoch 6:  45%|████▍     | 209/469 [00:03<00:03, 74.48it/s]"
     ]
    },
    {
     "name": "stdout",
     "output_type": "stream",
     "text": [
      "  Batch 200: Loss: 0.1571, Acc: 0.9609\n"
     ]
    },
    {
     "name": "stderr",
     "output_type": "stream",
     "text": [
      "Epoch 6:  87%|████████▋ | 409/469 [00:05<00:00, 72.95it/s]"
     ]
    },
    {
     "name": "stdout",
     "output_type": "stream",
     "text": [
      "  Batch 400: Loss: 0.1862, Acc: 0.9141\n"
     ]
    },
    {
     "name": "stderr",
     "output_type": "stream",
     "text": [
      "Epoch 6: 100%|██████████| 469/469 [00:06<00:00, 69.00it/s]\n"
     ]
    },
    {
     "name": "stdout",
     "output_type": "stream",
     "text": [
      "  Train Loss: 0.2014 Acc: 0.9359\n",
      "Epoch 7/15\n",
      "----------\n"
     ]
    },
    {
     "name": "stderr",
     "output_type": "stream",
     "text": [
      "Epoch 7:   2%|▏         | 9/469 [00:00<00:20, 22.88it/s]"
     ]
    },
    {
     "name": "stdout",
     "output_type": "stream",
     "text": [
      "  Batch 0: Loss: 0.0655, Acc: 0.9688\n"
     ]
    },
    {
     "name": "stderr",
     "output_type": "stream",
     "text": [
      "Epoch 7:  45%|████▍     | 209/469 [00:03<00:03, 73.75it/s]"
     ]
    },
    {
     "name": "stdout",
     "output_type": "stream",
     "text": [
      "  Batch 200: Loss: 0.1952, Acc: 0.9375\n"
     ]
    },
    {
     "name": "stderr",
     "output_type": "stream",
     "text": [
      "Epoch 7:  87%|████████▋ | 409/469 [00:05<00:00, 73.08it/s]"
     ]
    },
    {
     "name": "stdout",
     "output_type": "stream",
     "text": [
      "  Batch 400: Loss: 0.2057, Acc: 0.9297\n"
     ]
    },
    {
     "name": "stderr",
     "output_type": "stream",
     "text": [
      "Epoch 7: 100%|██████████| 469/469 [00:06<00:00, 68.88it/s]\n"
     ]
    },
    {
     "name": "stdout",
     "output_type": "stream",
     "text": [
      "  Train Loss: 0.1864 Acc: 0.9403\n",
      "Epoch 8/15\n",
      "----------\n"
     ]
    },
    {
     "name": "stderr",
     "output_type": "stream",
     "text": [
      "Epoch 8:   2%|▏         | 9/469 [00:00<00:18, 24.48it/s]"
     ]
    },
    {
     "name": "stdout",
     "output_type": "stream",
     "text": [
      "  Batch 0: Loss: 0.1920, Acc: 0.9375\n"
     ]
    },
    {
     "name": "stderr",
     "output_type": "stream",
     "text": [
      "Epoch 8:  46%|████▌     | 215/469 [00:03<00:03, 71.54it/s]"
     ]
    },
    {
     "name": "stdout",
     "output_type": "stream",
     "text": [
      "  Batch 200: Loss: 0.1681, Acc: 0.9375\n"
     ]
    },
    {
     "name": "stderr",
     "output_type": "stream",
     "text": [
      "Epoch 8:  88%|████████▊ | 415/469 [00:06<00:00, 72.55it/s]"
     ]
    },
    {
     "name": "stdout",
     "output_type": "stream",
     "text": [
      "  Batch 400: Loss: 0.1954, Acc: 0.9062\n"
     ]
    },
    {
     "name": "stderr",
     "output_type": "stream",
     "text": [
      "Epoch 8: 100%|██████████| 469/469 [00:06<00:00, 68.52it/s]\n"
     ]
    },
    {
     "name": "stdout",
     "output_type": "stream",
     "text": [
      "  Train Loss: 0.1699 Acc: 0.9464\n",
      "Epoch 9/15\n",
      "----------\n"
     ]
    },
    {
     "name": "stderr",
     "output_type": "stream",
     "text": [
      "Epoch 9:   2%|▏         | 9/469 [00:00<00:20, 22.77it/s]"
     ]
    },
    {
     "name": "stdout",
     "output_type": "stream",
     "text": [
      "  Batch 0: Loss: 0.0928, Acc: 0.9844\n"
     ]
    },
    {
     "name": "stderr",
     "output_type": "stream",
     "text": [
      "Epoch 9:  44%|████▍     | 208/469 [00:03<00:03, 72.30it/s]"
     ]
    },
    {
     "name": "stdout",
     "output_type": "stream",
     "text": [
      "  Batch 200: Loss: 0.1091, Acc: 0.9844\n"
     ]
    },
    {
     "name": "stderr",
     "output_type": "stream",
     "text": [
      "Epoch 9:  87%|████████▋ | 408/469 [00:05<00:00, 72.60it/s]"
     ]
    },
    {
     "name": "stdout",
     "output_type": "stream",
     "text": [
      "  Batch 400: Loss: 0.1878, Acc: 0.9453\n"
     ]
    },
    {
     "name": "stderr",
     "output_type": "stream",
     "text": [
      "Epoch 9: 100%|██████████| 469/469 [00:06<00:00, 68.21it/s]\n"
     ]
    },
    {
     "name": "stdout",
     "output_type": "stream",
     "text": [
      "  Train Loss: 0.1576 Acc: 0.9493\n",
      "Epoch 10/15\n",
      "----------\n"
     ]
    },
    {
     "name": "stderr",
     "output_type": "stream",
     "text": [
      "Epoch 10:   2%|▏         | 9/469 [00:00<00:19, 23.50it/s]"
     ]
    },
    {
     "name": "stdout",
     "output_type": "stream",
     "text": [
      "  Batch 0: Loss: 0.1112, Acc: 0.9531\n"
     ]
    },
    {
     "name": "stderr",
     "output_type": "stream",
     "text": [
      "Epoch 10:  45%|████▍     | 209/469 [00:03<00:03, 75.00it/s]"
     ]
    },
    {
     "name": "stdout",
     "output_type": "stream",
     "text": [
      "  Batch 200: Loss: 0.0819, Acc: 0.9844\n"
     ]
    },
    {
     "name": "stderr",
     "output_type": "stream",
     "text": [
      "Epoch 10:  87%|████████▋ | 409/469 [00:05<00:00, 73.06it/s]"
     ]
    },
    {
     "name": "stdout",
     "output_type": "stream",
     "text": [
      "  Batch 400: Loss: 0.0931, Acc: 0.9844\n"
     ]
    },
    {
     "name": "stderr",
     "output_type": "stream",
     "text": [
      "Epoch 10: 100%|██████████| 469/469 [00:06<00:00, 69.86it/s]\n"
     ]
    },
    {
     "name": "stdout",
     "output_type": "stream",
     "text": [
      "  Train Loss: 0.1462 Acc: 0.9531\n",
      "Epoch 11/15\n",
      "----------\n"
     ]
    },
    {
     "name": "stderr",
     "output_type": "stream",
     "text": [
      "Epoch 11:   2%|▏         | 9/469 [00:00<00:19, 23.79it/s]"
     ]
    },
    {
     "name": "stdout",
     "output_type": "stream",
     "text": [
      "  Batch 0: Loss: 0.1582, Acc: 0.9688\n"
     ]
    },
    {
     "name": "stderr",
     "output_type": "stream",
     "text": [
      "Epoch 11:  45%|████▍     | 209/469 [00:03<00:03, 71.84it/s]"
     ]
    },
    {
     "name": "stdout",
     "output_type": "stream",
     "text": [
      "  Batch 200: Loss: 0.1263, Acc: 0.9531\n"
     ]
    },
    {
     "name": "stderr",
     "output_type": "stream",
     "text": [
      "Epoch 11:  87%|████████▋ | 409/469 [00:05<00:00, 74.95it/s]"
     ]
    },
    {
     "name": "stdout",
     "output_type": "stream",
     "text": [
      "  Batch 400: Loss: 0.1129, Acc: 0.9609\n"
     ]
    },
    {
     "name": "stderr",
     "output_type": "stream",
     "text": [
      "Epoch 11: 100%|██████████| 469/469 [00:06<00:00, 68.92it/s]\n"
     ]
    },
    {
     "name": "stdout",
     "output_type": "stream",
     "text": [
      "  Train Loss: 0.1385 Acc: 0.9561\n",
      "Epoch 12/15\n",
      "----------\n"
     ]
    },
    {
     "name": "stderr",
     "output_type": "stream",
     "text": [
      "Epoch 12:   2%|▏         | 9/469 [00:00<00:20, 22.97it/s]"
     ]
    },
    {
     "name": "stdout",
     "output_type": "stream",
     "text": [
      "  Batch 0: Loss: 0.1362, Acc: 0.9531\n"
     ]
    },
    {
     "name": "stderr",
     "output_type": "stream",
     "text": [
      "Epoch 12:  45%|████▍     | 209/469 [00:03<00:03, 72.23it/s]"
     ]
    },
    {
     "name": "stdout",
     "output_type": "stream",
     "text": [
      "  Batch 200: Loss: 0.2390, Acc: 0.9219\n"
     ]
    },
    {
     "name": "stderr",
     "output_type": "stream",
     "text": [
      "Epoch 12:  87%|████████▋ | 409/469 [00:05<00:00, 74.25it/s]"
     ]
    },
    {
     "name": "stdout",
     "output_type": "stream",
     "text": [
      "  Batch 400: Loss: 0.0908, Acc: 0.9688\n"
     ]
    },
    {
     "name": "stderr",
     "output_type": "stream",
     "text": [
      "Epoch 12: 100%|██████████| 469/469 [00:06<00:00, 68.86it/s]\n"
     ]
    },
    {
     "name": "stdout",
     "output_type": "stream",
     "text": [
      "  Train Loss: 0.1296 Acc: 0.9577\n",
      "Epoch 13/15\n",
      "----------\n"
     ]
    },
    {
     "name": "stderr",
     "output_type": "stream",
     "text": [
      "Epoch 13:   2%|▏         | 9/469 [00:00<00:18, 24.29it/s]"
     ]
    },
    {
     "name": "stdout",
     "output_type": "stream",
     "text": [
      "  Batch 0: Loss: 0.1353, Acc: 0.9688\n"
     ]
    },
    {
     "name": "stderr",
     "output_type": "stream",
     "text": [
      "Epoch 13:  45%|████▍     | 209/469 [00:03<00:03, 71.87it/s]"
     ]
    },
    {
     "name": "stdout",
     "output_type": "stream",
     "text": [
      "  Batch 200: Loss: 0.1382, Acc: 0.9375\n"
     ]
    },
    {
     "name": "stderr",
     "output_type": "stream",
     "text": [
      "Epoch 13:  87%|████████▋ | 409/469 [00:05<00:00, 72.39it/s]"
     ]
    },
    {
     "name": "stdout",
     "output_type": "stream",
     "text": [
      "  Batch 400: Loss: 0.1075, Acc: 0.9531\n"
     ]
    },
    {
     "name": "stderr",
     "output_type": "stream",
     "text": [
      "Epoch 13: 100%|██████████| 469/469 [00:06<00:00, 68.49it/s]\n"
     ]
    },
    {
     "name": "stdout",
     "output_type": "stream",
     "text": [
      "  Train Loss: 0.1245 Acc: 0.9605\n",
      "Epoch 14/15\n",
      "----------\n"
     ]
    },
    {
     "name": "stderr",
     "output_type": "stream",
     "text": [
      "Epoch 14:   2%|▏         | 9/469 [00:00<00:20, 22.74it/s]"
     ]
    },
    {
     "name": "stdout",
     "output_type": "stream",
     "text": [
      "  Batch 0: Loss: 0.1606, Acc: 0.9531\n"
     ]
    },
    {
     "name": "stderr",
     "output_type": "stream",
     "text": [
      "Epoch 14:  45%|████▍     | 209/469 [00:03<00:03, 71.97it/s]"
     ]
    },
    {
     "name": "stdout",
     "output_type": "stream",
     "text": [
      "  Batch 200: Loss: 0.0791, Acc: 0.9688\n"
     ]
    },
    {
     "name": "stderr",
     "output_type": "stream",
     "text": [
      "Epoch 14:  87%|████████▋ | 409/469 [00:05<00:00, 74.00it/s]"
     ]
    },
    {
     "name": "stdout",
     "output_type": "stream",
     "text": [
      "  Batch 400: Loss: 0.1323, Acc: 0.9688\n"
     ]
    },
    {
     "name": "stderr",
     "output_type": "stream",
     "text": [
      "Epoch 14: 100%|██████████| 469/469 [00:06<00:00, 68.52it/s]\n"
     ]
    },
    {
     "name": "stdout",
     "output_type": "stream",
     "text": [
      "  Train Loss: 0.1181 Acc: 0.9625\n",
      "Epoch 15/15\n",
      "----------\n"
     ]
    },
    {
     "name": "stderr",
     "output_type": "stream",
     "text": [
      "Epoch 15:   2%|▏         | 9/469 [00:00<00:19, 23.41it/s]"
     ]
    },
    {
     "name": "stdout",
     "output_type": "stream",
     "text": [
      "  Batch 0: Loss: 0.1137, Acc: 0.9609\n"
     ]
    },
    {
     "name": "stderr",
     "output_type": "stream",
     "text": [
      "Epoch 15:  44%|████▍     | 208/469 [00:03<00:03, 72.13it/s]"
     ]
    },
    {
     "name": "stdout",
     "output_type": "stream",
     "text": [
      "  Batch 200: Loss: 0.1069, Acc: 0.9609\n"
     ]
    },
    {
     "name": "stderr",
     "output_type": "stream",
     "text": [
      "Epoch 15:  87%|████████▋ | 408/469 [00:05<00:00, 72.95it/s]"
     ]
    },
    {
     "name": "stdout",
     "output_type": "stream",
     "text": [
      "  Batch 400: Loss: 0.1525, Acc: 0.9453\n"
     ]
    },
    {
     "name": "stderr",
     "output_type": "stream",
     "text": [
      "Epoch 15: 100%|██████████| 469/469 [00:06<00:00, 68.73it/s]"
     ]
    },
    {
     "name": "stdout",
     "output_type": "stream",
     "text": [
      "  Train Loss: 0.1136 Acc: 0.9638\n",
      "Entrenamiento completado en 1m 43s\n",
      "Precisión Final: 0.9638\n"
     ]
    },
    {
     "name": "stderr",
     "output_type": "stream",
     "text": [
      "\n"
     ]
    },
    {
     "name": "stdout",
     "output_type": "stream",
     "text": [
      "Precisión en test: 0.2752\n",
      "F1 Score: 0.2053\n"
     ]
    },
    {
     "ename": "KeyError",
     "evalue": "'inference_time'",
     "output_type": "error",
     "traceback": [
      "\u001b[0;31m---------------------------------------------------------------------------\u001b[0m",
      "\u001b[0;31mKeyError\u001b[0m                                  Traceback (most recent call last)",
      "Cell \u001b[0;32mIn[90], line 1\u001b[0m\n\u001b[0;32m----> 1\u001b[0m histories, test_metrics, models \u001b[38;5;241m=\u001b[39m \u001b[43mrun_experiments\u001b[49m\u001b[43m(\u001b[49m\u001b[43mtrain_loader_basic\u001b[49m\u001b[43m,\u001b[49m\u001b[43m \u001b[49m\u001b[43mtrain_loader_da\u001b[49m\u001b[43m,\u001b[49m\u001b[43m \u001b[49m\u001b[43mtest_loader\u001b[49m\u001b[43m)\u001b[49m\n\u001b[1;32m      3\u001b[0m best_model_name \u001b[38;5;241m=\u001b[39m \u001b[38;5;28mmax\u001b[39m(test_metrics, key\u001b[38;5;241m=\u001b[39m\u001b[38;5;28;01mlambda\u001b[39;00m x: test_metrics[x][\u001b[38;5;124m'\u001b[39m\u001b[38;5;124maccuracy\u001b[39m\u001b[38;5;124m'\u001b[39m])\n\u001b[1;32m      4\u001b[0m best_accuracy \u001b[38;5;241m=\u001b[39m test_metrics[best_model_name][\u001b[38;5;124m'\u001b[39m\u001b[38;5;124maccuracy\u001b[39m\u001b[38;5;124m'\u001b[39m]\n",
      "Cell \u001b[0;32mIn[88], line 40\u001b[0m, in \u001b[0;36mrun_experiments\u001b[0;34m(train_loader_basic, train_loader_augment, test_loader)\u001b[0m\n\u001b[1;32m     35\u001b[0m \tmodels[config_name] \u001b[38;5;241m=\u001b[39m model\n\u001b[1;32m     37\u001b[0m \u001b[38;5;66;03m# Graficos\u001b[39;00m\n\u001b[1;32m     38\u001b[0m \u001b[38;5;66;03m# plot_metrics(histories, test_acc)\u001b[39;00m\n\u001b[1;32m     39\u001b[0m \u001b[38;5;66;03m# Tabla comparativa\u001b[39;00m\n\u001b[0;32m---> 40\u001b[0m \u001b[43mcompare_results\u001b[49m\u001b[43m(\u001b[49m\u001b[43mhistories\u001b[49m\u001b[43m,\u001b[49m\u001b[43m \u001b[49m\u001b[43mtest_metrics\u001b[49m\u001b[43m)\u001b[49m\n\u001b[1;32m     42\u001b[0m \u001b[38;5;28;01mreturn\u001b[39;00m histories, test_metrics, models\n",
      "Cell \u001b[0;32mIn[87], line 3\u001b[0m, in \u001b[0;36mcompare_results\u001b[0;34m(histories, test_metrics)\u001b[0m\n\u001b[1;32m      2\u001b[0m \u001b[38;5;28;01mdef\u001b[39;00m\u001b[38;5;250m \u001b[39m\u001b[38;5;21mcompare_results\u001b[39m(histories, test_metrics):\n\u001b[0;32m----> 3\u001b[0m     df \u001b[38;5;241m=\u001b[39m pd\u001b[38;5;241m.\u001b[39mDataFrame(\u001b[43m[\u001b[49m\n\u001b[1;32m      4\u001b[0m \u001b[43m        \u001b[49m\u001b[43m{\u001b[49m\n\u001b[1;32m      5\u001b[0m \u001b[43m            \u001b[49m\u001b[38;5;124;43m'\u001b[39;49m\u001b[38;5;124;43mModelo\u001b[39;49m\u001b[38;5;124;43m'\u001b[39;49m\u001b[43m:\u001b[49m\u001b[43m \u001b[49m\u001b[43mmodel\u001b[49m\u001b[43m,\u001b[49m\n\u001b[1;32m      6\u001b[0m \u001b[43m            \u001b[49m\u001b[38;5;124;43m'\u001b[39;49m\u001b[38;5;124;43mPrecisión Test (\u001b[39;49m\u001b[38;5;124;43m%\u001b[39;49m\u001b[38;5;124;43m)\u001b[39;49m\u001b[38;5;124;43m'\u001b[39;49m\u001b[43m:\u001b[49m\u001b[43m \u001b[49m\u001b[38;5;124;43mf\u001b[39;49m\u001b[38;5;124;43m\"\u001b[39;49m\u001b[38;5;132;43;01m{\u001b[39;49;00m\u001b[43mtest_metrics\u001b[49m\u001b[43m[\u001b[49m\u001b[43mmodel\u001b[49m\u001b[43m]\u001b[49m\u001b[43m[\u001b[49m\u001b[38;5;124;43m'\u001b[39;49m\u001b[38;5;124;43maccuracy\u001b[39;49m\u001b[38;5;124;43m'\u001b[39;49m\u001b[43m]\u001b[49m\u001b[38;5;250;43m \u001b[39;49m\u001b[38;5;241;43m*\u001b[39;49m\u001b[38;5;250;43m \u001b[39;49m\u001b[38;5;241;43m100\u001b[39;49m\u001b[38;5;132;43;01m:\u001b[39;49;00m\u001b[38;5;124;43m.2f\u001b[39;49m\u001b[38;5;132;43;01m}\u001b[39;49;00m\u001b[38;5;124;43m%\u001b[39;49m\u001b[38;5;124;43m\"\u001b[39;49m\u001b[43m,\u001b[49m\n\u001b[1;32m      7\u001b[0m \u001b[43m            \u001b[49m\u001b[38;5;124;43m'\u001b[39;49m\u001b[38;5;124;43mF1-Score\u001b[39;49m\u001b[38;5;124;43m'\u001b[39;49m\u001b[43m:\u001b[49m\u001b[43m \u001b[49m\u001b[38;5;124;43mf\u001b[39;49m\u001b[38;5;124;43m\"\u001b[39;49m\u001b[38;5;132;43;01m{\u001b[39;49;00m\u001b[43mtest_metrics\u001b[49m\u001b[43m[\u001b[49m\u001b[43mmodel\u001b[49m\u001b[43m]\u001b[49m\u001b[43m[\u001b[49m\u001b[38;5;124;43m'\u001b[39;49m\u001b[38;5;124;43mf1_score\u001b[39;49m\u001b[38;5;124;43m'\u001b[39;49m\u001b[43m]\u001b[49m\u001b[38;5;132;43;01m:\u001b[39;49;00m\u001b[38;5;124;43m.4f\u001b[39;49m\u001b[38;5;132;43;01m}\u001b[39;49;00m\u001b[38;5;124;43m\"\u001b[39;49m\u001b[43m,\u001b[49m\n\u001b[1;32m      8\u001b[0m \u001b[43m            \u001b[49m\u001b[38;5;124;43m'\u001b[39;49m\u001b[38;5;124;43mTiempo Entrenamiento (s)\u001b[39;49m\u001b[38;5;124;43m'\u001b[39;49m\u001b[43m:\u001b[49m\u001b[43m \u001b[49m\u001b[38;5;124;43mf\u001b[39;49m\u001b[38;5;124;43m\"\u001b[39;49m\u001b[38;5;132;43;01m{\u001b[39;49;00m\u001b[43mhistories\u001b[49m\u001b[43m[\u001b[49m\u001b[43mmodel\u001b[49m\u001b[43m]\u001b[49m\u001b[43m[\u001b[49m\u001b[38;5;124;43m'\u001b[39;49m\u001b[38;5;124;43mtraining_time\u001b[39;49m\u001b[38;5;124;43m'\u001b[39;49m\u001b[43m]\u001b[49m\u001b[38;5;132;43;01m:\u001b[39;49;00m\u001b[38;5;124;43m.1f\u001b[39;49m\u001b[38;5;132;43;01m}\u001b[39;49;00m\u001b[38;5;124;43m\"\u001b[39;49m\u001b[43m,\u001b[49m\n\u001b[1;32m      9\u001b[0m \u001b[43m            \u001b[49m\u001b[38;5;124;43m'\u001b[39;49m\u001b[38;5;124;43mTiempo Inferencia (s)\u001b[39;49m\u001b[38;5;124;43m'\u001b[39;49m\u001b[43m:\u001b[49m\u001b[43m \u001b[49m\u001b[38;5;124;43mf\u001b[39;49m\u001b[38;5;124;43m\"\u001b[39;49m\u001b[38;5;132;43;01m{\u001b[39;49;00m\u001b[43mtest_metrics\u001b[49m\u001b[43m[\u001b[49m\u001b[43mmodel\u001b[49m\u001b[43m]\u001b[49m\u001b[43m[\u001b[49m\u001b[38;5;124;43m'\u001b[39;49m\u001b[38;5;124;43minference_time\u001b[39;49m\u001b[38;5;124;43m'\u001b[39;49m\u001b[43m]\u001b[49m\u001b[38;5;132;43;01m:\u001b[39;49;00m\u001b[38;5;124;43m.1f\u001b[39;49m\u001b[38;5;132;43;01m}\u001b[39;49;00m\u001b[38;5;124;43m\"\u001b[39;49m\u001b[43m,\u001b[49m\n\u001b[1;32m     10\u001b[0m \u001b[43m            \u001b[49m\u001b[38;5;124;43m'\u001b[39;49m\u001b[38;5;124;43mPérdida Final\u001b[39;49m\u001b[38;5;124;43m'\u001b[39;49m\u001b[43m:\u001b[49m\u001b[43m \u001b[49m\u001b[38;5;124;43mf\u001b[39;49m\u001b[38;5;124;43m\"\u001b[39;49m\u001b[38;5;132;43;01m{\u001b[39;49;00m\u001b[43mhistories\u001b[49m\u001b[43m[\u001b[49m\u001b[43mmodel\u001b[49m\u001b[43m]\u001b[49m\u001b[43m[\u001b[49m\u001b[38;5;124;43m'\u001b[39;49m\u001b[38;5;124;43mepoch_train_loss\u001b[39;49m\u001b[38;5;124;43m'\u001b[39;49m\u001b[43m]\u001b[49m\u001b[43m[\u001b[49m\u001b[38;5;241;43m-\u001b[39;49m\u001b[38;5;241;43m1\u001b[39;49m\u001b[43m]\u001b[49m\u001b[38;5;132;43;01m:\u001b[39;49;00m\u001b[38;5;124;43m.4f\u001b[39;49m\u001b[38;5;132;43;01m}\u001b[39;49;00m\u001b[38;5;124;43m\"\u001b[39;49m\n\u001b[1;32m     11\u001b[0m \u001b[43m        \u001b[49m\u001b[43m}\u001b[49m\n\u001b[1;32m     12\u001b[0m \u001b[43m        \u001b[49m\u001b[38;5;28;43;01mfor\u001b[39;49;00m\u001b[43m \u001b[49m\u001b[43mmodel\u001b[49m\u001b[43m \u001b[49m\u001b[38;5;129;43;01min\u001b[39;49;00m\u001b[43m \u001b[49m\u001b[43mhistories\u001b[49m\n\u001b[1;32m     13\u001b[0m \u001b[43m    \u001b[49m\u001b[43m]\u001b[49m)\n\u001b[1;32m     15\u001b[0m     \u001b[38;5;28mprint\u001b[39m(\u001b[38;5;124m\"\u001b[39m\u001b[38;5;130;01m\\n\u001b[39;00m\u001b[38;5;124mTabla Comparativa de Resultados:\u001b[39m\u001b[38;5;130;01m\\n\u001b[39;00m\u001b[38;5;124m\"\u001b[39m, df)\n\u001b[1;32m     16\u001b[0m     \u001b[38;5;28;01mreturn\u001b[39;00m df\n",
      "Cell \u001b[0;32mIn[87], line 9\u001b[0m, in \u001b[0;36m<listcomp>\u001b[0;34m(.0)\u001b[0m\n\u001b[1;32m      2\u001b[0m \u001b[38;5;28;01mdef\u001b[39;00m\u001b[38;5;250m \u001b[39m\u001b[38;5;21mcompare_results\u001b[39m(histories, test_metrics):\n\u001b[1;32m      3\u001b[0m     df \u001b[38;5;241m=\u001b[39m pd\u001b[38;5;241m.\u001b[39mDataFrame([\n\u001b[1;32m      4\u001b[0m         {\n\u001b[1;32m      5\u001b[0m             \u001b[38;5;124m'\u001b[39m\u001b[38;5;124mModelo\u001b[39m\u001b[38;5;124m'\u001b[39m: model,\n\u001b[1;32m      6\u001b[0m             \u001b[38;5;124m'\u001b[39m\u001b[38;5;124mPrecisión Test (\u001b[39m\u001b[38;5;124m%\u001b[39m\u001b[38;5;124m)\u001b[39m\u001b[38;5;124m'\u001b[39m: \u001b[38;5;124mf\u001b[39m\u001b[38;5;124m\"\u001b[39m\u001b[38;5;132;01m{\u001b[39;00mtest_metrics[model][\u001b[38;5;124m'\u001b[39m\u001b[38;5;124maccuracy\u001b[39m\u001b[38;5;124m'\u001b[39m]\u001b[38;5;250m \u001b[39m\u001b[38;5;241m*\u001b[39m\u001b[38;5;250m \u001b[39m\u001b[38;5;241m100\u001b[39m\u001b[38;5;132;01m:\u001b[39;00m\u001b[38;5;124m.2f\u001b[39m\u001b[38;5;132;01m}\u001b[39;00m\u001b[38;5;124m%\u001b[39m\u001b[38;5;124m\"\u001b[39m,\n\u001b[1;32m      7\u001b[0m             \u001b[38;5;124m'\u001b[39m\u001b[38;5;124mF1-Score\u001b[39m\u001b[38;5;124m'\u001b[39m: \u001b[38;5;124mf\u001b[39m\u001b[38;5;124m\"\u001b[39m\u001b[38;5;132;01m{\u001b[39;00mtest_metrics[model][\u001b[38;5;124m'\u001b[39m\u001b[38;5;124mf1_score\u001b[39m\u001b[38;5;124m'\u001b[39m]\u001b[38;5;132;01m:\u001b[39;00m\u001b[38;5;124m.4f\u001b[39m\u001b[38;5;132;01m}\u001b[39;00m\u001b[38;5;124m\"\u001b[39m,\n\u001b[1;32m      8\u001b[0m             \u001b[38;5;124m'\u001b[39m\u001b[38;5;124mTiempo Entrenamiento (s)\u001b[39m\u001b[38;5;124m'\u001b[39m: \u001b[38;5;124mf\u001b[39m\u001b[38;5;124m\"\u001b[39m\u001b[38;5;132;01m{\u001b[39;00mhistories[model][\u001b[38;5;124m'\u001b[39m\u001b[38;5;124mtraining_time\u001b[39m\u001b[38;5;124m'\u001b[39m]\u001b[38;5;132;01m:\u001b[39;00m\u001b[38;5;124m.1f\u001b[39m\u001b[38;5;132;01m}\u001b[39;00m\u001b[38;5;124m\"\u001b[39m,\n\u001b[0;32m----> 9\u001b[0m             \u001b[38;5;124m'\u001b[39m\u001b[38;5;124mTiempo Inferencia (s)\u001b[39m\u001b[38;5;124m'\u001b[39m: \u001b[38;5;124mf\u001b[39m\u001b[38;5;124m\"\u001b[39m\u001b[38;5;132;01m{\u001b[39;00m\u001b[43mtest_metrics\u001b[49m\u001b[43m[\u001b[49m\u001b[43mmodel\u001b[49m\u001b[43m]\u001b[49m\u001b[43m[\u001b[49m\u001b[38;5;124;43m'\u001b[39;49m\u001b[38;5;124;43minference_time\u001b[39;49m\u001b[38;5;124;43m'\u001b[39;49m\u001b[43m]\u001b[49m\u001b[38;5;132;01m:\u001b[39;00m\u001b[38;5;124m.1f\u001b[39m\u001b[38;5;132;01m}\u001b[39;00m\u001b[38;5;124m\"\u001b[39m,\n\u001b[1;32m     10\u001b[0m             \u001b[38;5;124m'\u001b[39m\u001b[38;5;124mPérdida Final\u001b[39m\u001b[38;5;124m'\u001b[39m: \u001b[38;5;124mf\u001b[39m\u001b[38;5;124m\"\u001b[39m\u001b[38;5;132;01m{\u001b[39;00mhistories[model][\u001b[38;5;124m'\u001b[39m\u001b[38;5;124mepoch_train_loss\u001b[39m\u001b[38;5;124m'\u001b[39m][\u001b[38;5;241m-\u001b[39m\u001b[38;5;241m1\u001b[39m]\u001b[38;5;132;01m:\u001b[39;00m\u001b[38;5;124m.4f\u001b[39m\u001b[38;5;132;01m}\u001b[39;00m\u001b[38;5;124m\"\u001b[39m\n\u001b[1;32m     11\u001b[0m         }\n\u001b[1;32m     12\u001b[0m         \u001b[38;5;28;01mfor\u001b[39;00m model \u001b[38;5;129;01min\u001b[39;00m histories\n\u001b[1;32m     13\u001b[0m     ])\n\u001b[1;32m     15\u001b[0m     \u001b[38;5;28mprint\u001b[39m(\u001b[38;5;124m\"\u001b[39m\u001b[38;5;130;01m\\n\u001b[39;00m\u001b[38;5;124mTabla Comparativa de Resultados:\u001b[39m\u001b[38;5;130;01m\\n\u001b[39;00m\u001b[38;5;124m\"\u001b[39m, df)\n\u001b[1;32m     16\u001b[0m     \u001b[38;5;28;01mreturn\u001b[39;00m df\n",
      "\u001b[0;31mKeyError\u001b[0m: 'inference_time'"
     ]
    }
   ],
   "source": [
    "histories, test_metrics, models = run_experiments(train_loader_basic, train_loader_da, test_loader)\n",
    "\n",
    "best_model_name = max(test_metrics, key=lambda x: test_metrics[x]['accuracy'])\n",
    "best_accuracy = test_metrics[best_model_name]['accuracy']\n",
    "best_f1 = test_metrics[best_model_name]['f1_score']\n",
    "print(f\"\\nMejor modelo: {best_model_name} con precisión de {best_accuracy * 100:.2f}% y F1-score de {best_f1:.4f}\")\n",
    "print(\"\\nAnálisis comparativo completado.\")"
   ]
  }
 ],
 "metadata": {
  "kernelspec": {
   "display_name": "vision_env",
   "language": "python",
   "name": "python3"
  },
  "language_info": {
   "codemirror_mode": {
    "name": "ipython",
    "version": 3
   },
   "file_extension": ".py",
   "mimetype": "text/x-python",
   "name": "python",
   "nbconvert_exporter": "python",
   "pygments_lexer": "ipython3",
   "version": "3.11.6"
  }
 },
 "nbformat": 4,
 "nbformat_minor": 2
}
