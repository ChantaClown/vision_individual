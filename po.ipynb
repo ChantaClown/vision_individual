{
 "cells": [
  {
   "cell_type": "markdown",
   "metadata": {},
   "source": [
    "1. Modifica una red preentrenada de torchvision.models para el problema de clasificación de 10 dígitos.\n",
    "2. Refina la red con y sin data augmentation (2 modelos).\n",
    "3. Entrena la misma red desde cero (con los pesos inicializados aleatoriamente), con y sin data augmentation (2 modelos).\n",
    "4. Compara y comenta los resultados."
   ]
  },
  {
   "cell_type": "code",
   "execution_count": 134,
   "metadata": {},
   "outputs": [],
   "source": [
    "from torchvision import datasets\n",
    "from torchvision import models\n",
    "from torchvision import transforms as t\n",
    "from torch import nn\n",
    "from torch.utils.data import DataLoader\n",
    "import torch"
   ]
  },
  {
   "cell_type": "markdown",
   "metadata": {},
   "source": [
    "# CARGA DE DATOS"
   ]
  },
  {
   "cell_type": "code",
   "execution_count": 135,
   "metadata": {},
   "outputs": [],
   "source": [
    "mytransforms = t.Compose([\n",
    "    t.Resize((128, 128)),\n",
    "    t.ToTensor(),\n",
    "    # Antes de usar Normalize, se debe de transformar a tensor\n",
    "    t.Normalize((0.5,), (0.5,))])"
   ]
  },
  {
   "cell_type": "code",
   "execution_count": 136,
   "metadata": {},
   "outputs": [],
   "source": [
    "route = \"/home/clown/2-semester/vision_individual\"\n",
    "train = datasets.MNIST(route, train=True, download=False, transform=mytransforms)\n",
    "test = datasets.MNIST(route, train=False, download=False, transform=mytransforms)\n",
    "\n",
    "dataloader = DataLoader(train, batch_size=128, shuffle=True, num_workers=2)\n"
   ]
  },
  {
   "cell_type": "code",
   "execution_count": 137,
   "metadata": {},
   "outputs": [
    {
     "name": "stdout",
     "output_type": "stream",
     "text": [
      "Train dataset size:  60000\n",
      "Test dataset size:  10000\n"
     ]
    }
   ],
   "source": [
    "print(\"Train dataset size: \", len(train))\n",
    "print(\"Test dataset size: \", len(test))"
   ]
  },
  {
   "cell_type": "markdown",
   "metadata": {},
   "source": [
    "# CARGA DE MODELOS"
   ]
  },
  {
   "cell_type": "markdown",
   "metadata": {},
   "source": [
    "## 1. Clasificacion basica (sin data aumentation)"
   ]
  },
  {
   "cell_type": "code",
   "execution_count": 138,
   "metadata": {},
   "outputs": [
    {
     "name": "stderr",
     "output_type": "stream",
     "text": [
      "/home/clown/2-semester/vision_individual/vision_env/lib/python3.11/site-packages/torchvision/models/_utils.py:208: UserWarning: The parameter 'pretrained' is deprecated since 0.13 and may be removed in the future, please use 'weights' instead.\n",
      "  warnings.warn(\n",
      "/home/clown/2-semester/vision_individual/vision_env/lib/python3.11/site-packages/torchvision/models/_utils.py:223: UserWarning: Arguments other than a weight enum or `None` for 'weights' are deprecated since 0.13 and may be removed in the future. The current behavior is equivalent to passing `weights=VGG16_Weights.IMAGENET1K_V1`. You can also use `weights=VGG16_Weights.DEFAULT` to get the most up-to-date weights.\n",
      "  warnings.warn(msg)\n"
     ]
    }
   ],
   "source": [
    "vgg16 = models.vgg16(pretrained=True)"
   ]
  },
  {
   "cell_type": "markdown",
   "metadata": {},
   "source": [
    "### Cambio de tamanos para adaptarse a MNIST\n",
    "Pasamos de imagenes (28x28) en formato de grises a (128x128) en RGB "
   ]
  },
  {
   "cell_type": "code",
   "execution_count": 139,
   "metadata": {},
   "outputs": [],
   "source": [
    "train_input, train_target = train[0]\n",
    "test_input, test_target = test[0]\n",
    "\n",
    "train_input = train_input.unsqueeze_(0)\n",
    "test_input = test_input.unsqueeze_(0)"
   ]
  },
  {
   "cell_type": "markdown",
   "metadata": {},
   "source": [
    "### Adaptacion al caso de MNIST "
   ]
  },
  {
   "cell_type": "code",
   "execution_count": 140,
   "metadata": {},
   "outputs": [],
   "source": [
    "vggf = vgg16.features\n",
    "\n",
    "mymodel = nn.Sequential(\n",
    "    vggf,\n",
    "    nn.AdaptiveAvgPool2d(output_size = 1),\n",
    "    nn.Flatten(),\n",
    "    nn.Linear(512, 1024),\n",
    "    nn.ReLU(),\n",
    "    nn.Linear(1024, 10),\n",
    ")\n"
   ]
  },
  {
   "cell_type": "markdown",
   "metadata": {},
   "source": [
    "### Transformacion a escala de grises para MNIST"
   ]
  },
  {
   "cell_type": "code",
   "execution_count": 141,
   "metadata": {},
   "outputs": [
    {
     "name": "stdout",
     "output_type": "stream",
     "text": [
      "- weight: torch.Size([64, 3, 3, 3])\n",
      "- bias: torch.Size([64])\n",
      "- weight: torch.Size([64, 1, 3, 3])\n",
      "- bias: torch.Size([64])\n"
     ]
    }
   ],
   "source": [
    "for name, param in mymodel[0][0].named_parameters():\n",
    "  print(f\"- {name}: {param.shape}\")\n",
    "\n",
    "old_layer = mymodel[0][0]\n",
    "mymodel[0][0] = nn.Conv2d(1, 64, 3, padding=1)\n",
    "# Redimension a escala de grises, ajustando los pesos sumando los pesos a lo largo del canal de entrada\n",
    "mymodel[0][0].weight.data = old_layer.weight.sum(dim=1, keepdim=True)\n",
    "mymodel[0][0].bias.data = old_layer.bias\n",
    "\n",
    "for name, param in mymodel[0][0].named_parameters():\n",
    "  print(f\"- {name}: {param.shape}\")"
   ]
  },
  {
   "cell_type": "markdown",
   "metadata": {},
   "source": [
    "## Entrenamiento"
   ]
  },
  {
   "cell_type": "code",
   "execution_count": 142,
   "metadata": {},
   "outputs": [],
   "source": [
    "from torch import optim\n",
    "def train_model(mymodel, dataloader, optimizer, criterion):\n",
    "    device = torch.device(\"cuda:0\" if torch.cuda.is_available() else \"cpu\")\n",
    "    print(device)\n",
    "    mymodel.to(device)                     # Place the model into the GPU\n",
    "\n",
    "    \n",
    "    total_loss = []\n",
    "    total_acc = []\n",
    "\n",
    "    for epoch in range(3):                           # Iterate a given number of epochs, or control with another condition\n",
    "      for i,data in enumerate(dataloader):            # Iterate over the batches in the dataset\n",
    "        samples = data[0].to(device)                  # Place the data into the GPU\n",
    "        targets = data[1].to(device)                  # Place the targets into the GPU\n",
    "\n",
    "        output = mymodel(samples)                     # Compute the training samples output\n",
    "        loss = criterion(output, targets)             # Compute the loss\n",
    "        total_loss.append(loss.item())\n",
    "        total_acc.append((output.argmax(1) == targets).float().mean().item())\n",
    "\n",
    "        optimizer.zero_grad()                         # Reset the old gradients accumulated in the buffer from previous iteration\n",
    "        loss.backward()                               # Backpropagate the error, which accumulates the gradients for the batch\n",
    "        optimizer.step()                              # Update the model parameters, according to the optimizer rule\n",
    "\n",
    "        if i%200 == 0:\n",
    "          _, predicted = torch.max(output,1)\n",
    "          total = targets.size(0)\n",
    "          correct = (predicted == targets).sum().item()\n",
    "          print(f\"epoch:{epoch}, mini-batch: {i}: Training loss: {loss.item()}, accuracy: {correct/total}\")\n",
    "\n",
    "    return mymodel, total_loss, total_acc \n"
   ]
  },
  {
   "cell_type": "code",
   "execution_count": 143,
   "metadata": {},
   "outputs": [
    {
     "name": "stdout",
     "output_type": "stream",
     "text": [
      "cuda:0\n",
      "epoch:0, mini-batch: 0: Training loss: 2.3246355056762695, accuracy: 0.0859375\n",
      "epoch:0, mini-batch: 200: Training loss: 0.09099189192056656, accuracy: 0.984375\n",
      "epoch:0, mini-batch: 400: Training loss: 0.08833357691764832, accuracy: 0.9765625\n",
      "epoch:1, mini-batch: 0: Training loss: 0.032518018037080765, accuracy: 0.984375\n",
      "epoch:1, mini-batch: 200: Training loss: 0.00606789393350482, accuracy: 1.0\n",
      "epoch:1, mini-batch: 400: Training loss: 0.033510126173496246, accuracy: 0.9921875\n",
      "epoch:2, mini-batch: 0: Training loss: 0.023272691294550896, accuracy: 0.9921875\n",
      "epoch:2, mini-batch: 200: Training loss: 0.011329285800457, accuracy: 0.9921875\n",
      "epoch:2, mini-batch: 400: Training loss: 0.03460728004574776, accuracy: 0.9921875\n"
     ]
    }
   ],
   "source": [
    "criterion = nn.CrossEntropyLoss()\n",
    "optimizer = optim.Adam(mymodel.parameters(), lr=1e-4)  # Intizalize the optimizer with the network parameters and learning rate\n",
    "mymodel, train_loss, train_acc = train_model(mymodel, dataloader, optimizer, criterion)"
   ]
  },
  {
   "cell_type": "markdown",
   "metadata": {},
   "source": [
    "## TEST"
   ]
  },
  {
   "cell_type": "code",
   "execution_count": 144,
   "metadata": {},
   "outputs": [],
   "source": [
    "def accuracy(outputs, targets):\n",
    "    _, predicted = outputs.max(1)\n",
    "    total = targets.size(0)\n",
    "    correct = (predicted == targets).sum().item()\n",
    "    return correct/total\n",
    "\n",
    "def test_model(mymodel, testloader):\n",
    "\tdevice = torch.device(\"cuda:0\" if torch.cuda.is_available() else \"cpu\")\n",
    "\n",
    "\tmymodel.eval() #  This notifies all the layers in the model to put themselves into evaluation mode\n",
    "\tacc_test = []\n",
    "\tmean_acc = 0\n",
    "\twith torch.no_grad(): # This disables autograd\n",
    "\t\tfor i, (samples, targets) in enumerate(testloader):\n",
    "\t\t\tsamples = samples.to(device)\n",
    "\t\t\ttargets = targets.to(device)\n",
    "\n",
    "\t\t\toutputs = mymodel(samples)\n",
    "\t\t\t\n",
    "\t\t\tthis_acc = accuracy(outputs, targets)\n",
    "\t\t\tacc_test.append(this_acc)\n",
    "\t\t\tmean_acc += this_acc\n",
    "\n",
    "\t\tmean_acc /= (i+1)\n",
    "\treturn mean_acc, acc_test\n"
   ]
  },
  {
   "cell_type": "code",
   "execution_count": 145,
   "metadata": {},
   "outputs": [
    {
     "name": "stdout",
     "output_type": "stream",
     "text": [
      "Model accuracy on the test set is 98.96162974683544 %\n"
     ]
    }
   ],
   "source": [
    "testloader = DataLoader(test, batch_size=128, shuffle=False, num_workers=2)\n",
    "mean_acc, acc_test = test_model(mymodel, testloader)\n",
    "print(f\"Model accuracy on the test set is {mean_acc*100} %\")"
   ]
  },
  {
   "cell_type": "markdown",
   "metadata": {},
   "source": [
    "## Plot Metrics"
   ]
  },
  {
   "cell_type": "code",
   "execution_count": 146,
   "metadata": {},
   "outputs": [
    {
     "data": {
      "text/plain": [
       "[<matplotlib.lines.Line2D at 0x7ca1d4b00d10>,\n",
       " <matplotlib.lines.Line2D at 0x7ca1d4db10d0>]"
      ]
     },
     "execution_count": 146,
     "metadata": {},
     "output_type": "execute_result"
    },
    {
     "data": {
      "image/png": "[encoded data removed]",
      "text/plain": [
       "<Figure size 640x480 with 1 Axes>"
      ]
     },
     "metadata": {},
     "output_type": "display_data"
    }
   ],
   "source": [
    "import matplotlib.pyplot as plt\n",
    "\n",
    "def plot_metrics(train_losses, train_accuracies, test_accuracies):\n",
    "    epochs = range(1, 20)\n",
    "\n",
    "    plt.figure(figsize=(10, 6))\n",
    "\n",
    "    # Plotear la pérdida de entrenamiento\n",
    "    plt.plot(epochs, train_losses, 'r', label='Pérdida de Entrenamiento')  # 'r' es el color rojo\n",
    "\n",
    "    # Plotear la precisión de entrenamiento\n",
    "    plt.plot(epochs, train_accuracies, 'g', label='Precisión de Entrenamiento')  # 'g' es el color verde\n",
    "\n",
    "    # Plotear la precisión de prueba\n",
    "    plt.plot(epochs, test_accuracies, 'b', label='Precisión de Prueba')  # 'b' es el color azul\n",
    "\n",
    "    plt.xlabel('Epochs')\n",
    "    plt.ylabel('Valor')\n",
    "    plt.title('Pérdida y Precisión durante el Entrenamiento y Prueba')\n",
    "    plt.legend()\n",
    "\n",
    "    plt.show()\n",
    "\n",
    "plt.plot(train_loss, train_acc, acc_test)"
   ]
  },
  {
   "cell_type": "markdown",
   "metadata": {},
   "source": [
    "# 2. Entrenamiento con Data Aumentation"
   ]
  },
  {
   "cell_type": "markdown",
   "metadata": {},
   "source": [
    "### Data Aumentation"
   ]
  },
  {
   "cell_type": "code",
   "execution_count": 147,
   "metadata": {},
   "outputs": [],
   "source": [
    "myaugmentation = t.Compose([\n",
    "                             t.Pad(4),\n",
    "                             t.RandomAffine(degrees=45, translate=(0.2, 0.2), scale=(0.75,1.25), shear=15),\n",
    "                             t.ColorJitter(brightness=(0.2,0.8), contrast=(0.2, 0.8)),\n",
    "                             mytransforms\n",
    "])\n",
    "\n",
    "train = datasets.MNIST(route, train=True, download=False, transform=myaugmentation)\n",
    "dataloader = DataLoader(train, batch_size=128, shuffle=True, num_workers=2)"
   ]
  },
  {
   "cell_type": "markdown",
   "metadata": {},
   "source": [
    "## Entrenamiento"
   ]
  },
  {
   "cell_type": "code",
   "execution_count": 148,
   "metadata": {},
   "outputs": [
    {
     "name": "stdout",
     "output_type": "stream",
     "text": [
      "cuda:0\n",
      "epoch:0, mini-batch: 0: Training loss: 0.7185065746307373, accuracy: 0.765625\n",
      "epoch:0, mini-batch: 200: Training loss: 0.03420567139983177, accuracy: 0.9921875\n",
      "epoch:0, mini-batch: 400: Training loss: 0.07041813433170319, accuracy: 0.9765625\n",
      "epoch:1, mini-batch: 0: Training loss: 0.03271303325891495, accuracy: 0.9921875\n",
      "epoch:1, mini-batch: 200: Training loss: 0.09347430616617203, accuracy: 0.984375\n",
      "epoch:1, mini-batch: 400: Training loss: 0.058150678873062134, accuracy: 0.984375\n",
      "epoch:2, mini-batch: 0: Training loss: 0.024764785543084145, accuracy: 0.9921875\n",
      "epoch:2, mini-batch: 200: Training loss: 0.028437551110982895, accuracy: 0.9921875\n",
      "epoch:2, mini-batch: 400: Training loss: 0.022143201902508736, accuracy: 0.984375\n"
     ]
    }
   ],
   "source": [
    "criterion = nn.CrossEntropyLoss()\n",
    "optimizer = optim.Adam(mymodel.parameters(), lr=1e-4)  # Intizalize the optimizer with the network parameters and learning rate\n",
    "mymodel, train_loss, train_acc = train_model(mymodel, dataloader, optimizer, criterion)"
   ]
  },
  {
   "cell_type": "markdown",
   "metadata": {},
   "source": [
    "## Test"
   ]
  },
  {
   "cell_type": "code",
   "execution_count": 149,
   "metadata": {},
   "outputs": [
    {
     "name": "stdout",
     "output_type": "stream",
     "text": [
      "Model accuracy on the test set is 99.10996835443038 %\n"
     ]
    }
   ],
   "source": [
    "testloader = DataLoader(test, batch_size=128, shuffle=False, num_workers=2)\n",
    "mean_acc, acc_test = test_model(mymodel, testloader)\n",
    "print(f\"Model accuracy on the test set is {mean_acc*100} %\")"
   ]
  },
  {
   "cell_type": "markdown",
   "metadata": {},
   "source": [
    "# Plot Metrics"
   ]
  },
  {
   "cell_type": "code",
   "execution_count": 150,
   "metadata": {},
   "outputs": [
    {
     "data": {
      "text/plain": [
       "[<matplotlib.lines.Line2D at 0x7ca1d4cd6810>,\n",
       " <matplotlib.lines.Line2D at 0x7ca1d4cbdd90>]"
      ]
     },
     "execution_count": 150,
     "metadata": {},
     "output_type": "execute_result"
    },
    {
     "data": {
      "image/png": "[encoded data removed]",
      "text/plain": [
       "<Figure size 640x480 with 1 Axes>"
      ]
     },
     "metadata": {},
     "output_type": "display_data"
    }
   ],
   "source": [
    "plt.plot(train_loss, train_acc, acc_test)"
   ]
  }
 ],
 "metadata": {
  "kernelspec": {
   "display_name": "vision_env",
   "language": "python",
   "name": "python3"
  },
  "language_info": {
   "codemirror_mode": {
    "name": "ipython",
    "version": 3
   },
   "file_extension": ".py",
   "mimetype": "text/x-python",
   "name": "python",
   "nbconvert_exporter": "python",
   "pygments_lexer": "ipython3",
   "version": "3.11.6"
  }
 },
 "nbformat": 4,
 "nbformat_minor": 2
}
